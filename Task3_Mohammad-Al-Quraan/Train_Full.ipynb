{
 "cells": [
  {
   "cell_type": "code",
   "execution_count": 1,
   "id": "f822cc49",
   "metadata": {},
   "outputs": [],
   "source": [
    "import pandas as pd \n",
    "import numpy as np\n",
    "import matplotlib.pyplot as plt\n",
    "import seaborn as sns\n",
    "from sklearn.preprocessing import StandardScaler, LabelEncoder\n",
    "from sklearn.linear_model import LogisticRegression, Lasso\n",
    "from sklearn.model_selection import train_test_split, GridSearchCV\n",
    "from sklearn.ensemble import RandomForestClassifier, GradientBoostingClassifier, AdaBoostClassifier\n",
    "from sklearn.tree import DecisionTreeClassifier\n",
    "from sklearn.neural_network import MLPClassifier\n",
    "from sklearn.metrics import accuracy_score, classification_report, confusion_matrix"
   ]
  },
  {
   "cell_type": "code",
   "execution_count": 2,
   "id": "3b6e3d48",
   "metadata": {},
   "outputs": [],
   "source": [
    "data = pd.read_csv(\"C:/Users/user/OneDrive/Desktop/first inten project.csv\")"
   ]
  },
  {
   "cell_type": "code",
   "execution_count": 3,
   "id": "569052a2",
   "metadata": {},
   "outputs": [
    {
     "data": {
      "text/html": [
       "<div>\n",
       "<style scoped>\n",
       "    .dataframe tbody tr th:only-of-type {\n",
       "        vertical-align: middle;\n",
       "    }\n",
       "\n",
       "    .dataframe tbody tr th {\n",
       "        vertical-align: top;\n",
       "    }\n",
       "\n",
       "    .dataframe thead th {\n",
       "        text-align: right;\n",
       "    }\n",
       "</style>\n",
       "<table border=\"1\" class=\"dataframe\">\n",
       "  <thead>\n",
       "    <tr style=\"text-align: right;\">\n",
       "      <th></th>\n",
       "      <th>Booking_ID</th>\n",
       "      <th>number of adults</th>\n",
       "      <th>number of children</th>\n",
       "      <th>number of weekend nights</th>\n",
       "      <th>number of week nights</th>\n",
       "      <th>type of meal</th>\n",
       "      <th>car parking space</th>\n",
       "      <th>room type</th>\n",
       "      <th>lead time</th>\n",
       "      <th>market segment type</th>\n",
       "      <th>repeated</th>\n",
       "      <th>P-C</th>\n",
       "      <th>P-not-C</th>\n",
       "      <th>average price</th>\n",
       "      <th>special requests</th>\n",
       "      <th>date of reservation</th>\n",
       "      <th>booking status</th>\n",
       "    </tr>\n",
       "  </thead>\n",
       "  <tbody>\n",
       "    <tr>\n",
       "      <th>0</th>\n",
       "      <td>INN00001</td>\n",
       "      <td>1</td>\n",
       "      <td>1</td>\n",
       "      <td>2</td>\n",
       "      <td>5</td>\n",
       "      <td>Meal Plan 1</td>\n",
       "      <td>0</td>\n",
       "      <td>Room_Type 1</td>\n",
       "      <td>224</td>\n",
       "      <td>Offline</td>\n",
       "      <td>0</td>\n",
       "      <td>0</td>\n",
       "      <td>0</td>\n",
       "      <td>88.00</td>\n",
       "      <td>0</td>\n",
       "      <td>10/2/2015</td>\n",
       "      <td>Not_Canceled</td>\n",
       "    </tr>\n",
       "    <tr>\n",
       "      <th>1</th>\n",
       "      <td>INN00002</td>\n",
       "      <td>1</td>\n",
       "      <td>0</td>\n",
       "      <td>1</td>\n",
       "      <td>3</td>\n",
       "      <td>Not Selected</td>\n",
       "      <td>0</td>\n",
       "      <td>Room_Type 1</td>\n",
       "      <td>5</td>\n",
       "      <td>Online</td>\n",
       "      <td>0</td>\n",
       "      <td>0</td>\n",
       "      <td>0</td>\n",
       "      <td>106.68</td>\n",
       "      <td>1</td>\n",
       "      <td>11/6/2018</td>\n",
       "      <td>Not_Canceled</td>\n",
       "    </tr>\n",
       "    <tr>\n",
       "      <th>2</th>\n",
       "      <td>INN00003</td>\n",
       "      <td>2</td>\n",
       "      <td>1</td>\n",
       "      <td>1</td>\n",
       "      <td>3</td>\n",
       "      <td>Meal Plan 1</td>\n",
       "      <td>0</td>\n",
       "      <td>Room_Type 1</td>\n",
       "      <td>1</td>\n",
       "      <td>Online</td>\n",
       "      <td>0</td>\n",
       "      <td>0</td>\n",
       "      <td>0</td>\n",
       "      <td>50.00</td>\n",
       "      <td>0</td>\n",
       "      <td>2/28/2018</td>\n",
       "      <td>Canceled</td>\n",
       "    </tr>\n",
       "    <tr>\n",
       "      <th>3</th>\n",
       "      <td>INN00004</td>\n",
       "      <td>1</td>\n",
       "      <td>0</td>\n",
       "      <td>0</td>\n",
       "      <td>2</td>\n",
       "      <td>Meal Plan 1</td>\n",
       "      <td>0</td>\n",
       "      <td>Room_Type 1</td>\n",
       "      <td>211</td>\n",
       "      <td>Online</td>\n",
       "      <td>0</td>\n",
       "      <td>0</td>\n",
       "      <td>0</td>\n",
       "      <td>100.00</td>\n",
       "      <td>1</td>\n",
       "      <td>5/20/2017</td>\n",
       "      <td>Canceled</td>\n",
       "    </tr>\n",
       "    <tr>\n",
       "      <th>4</th>\n",
       "      <td>INN00005</td>\n",
       "      <td>1</td>\n",
       "      <td>0</td>\n",
       "      <td>1</td>\n",
       "      <td>2</td>\n",
       "      <td>Not Selected</td>\n",
       "      <td>0</td>\n",
       "      <td>Room_Type 1</td>\n",
       "      <td>48</td>\n",
       "      <td>Online</td>\n",
       "      <td>0</td>\n",
       "      <td>0</td>\n",
       "      <td>0</td>\n",
       "      <td>77.00</td>\n",
       "      <td>0</td>\n",
       "      <td>4/11/2018</td>\n",
       "      <td>Canceled</td>\n",
       "    </tr>\n",
       "  </tbody>\n",
       "</table>\n",
       "</div>"
      ],
      "text/plain": [
       "  Booking_ID  number of adults  number of children  number of weekend nights  \\\n",
       "0   INN00001                 1                   1                         2   \n",
       "1   INN00002                 1                   0                         1   \n",
       "2   INN00003                 2                   1                         1   \n",
       "3   INN00004                 1                   0                         0   \n",
       "4   INN00005                 1                   0                         1   \n",
       "\n",
       "   number of week nights  type of meal  car parking space    room type  \\\n",
       "0                      5   Meal Plan 1                  0  Room_Type 1   \n",
       "1                      3  Not Selected                  0  Room_Type 1   \n",
       "2                      3   Meal Plan 1                  0  Room_Type 1   \n",
       "3                      2   Meal Plan 1                  0  Room_Type 1   \n",
       "4                      2  Not Selected                  0  Room_Type 1   \n",
       "\n",
       "   lead time market segment type  repeated  P-C  P-not-C  average price   \\\n",
       "0        224             Offline         0    0        0           88.00   \n",
       "1          5              Online         0    0        0          106.68   \n",
       "2          1              Online         0    0        0           50.00   \n",
       "3        211              Online         0    0        0          100.00   \n",
       "4         48              Online         0    0        0           77.00   \n",
       "\n",
       "   special requests date of reservation booking status  \n",
       "0                 0           10/2/2015   Not_Canceled  \n",
       "1                 1           11/6/2018   Not_Canceled  \n",
       "2                 0           2/28/2018       Canceled  \n",
       "3                 1           5/20/2017       Canceled  \n",
       "4                 0           4/11/2018       Canceled  "
      ]
     },
     "execution_count": 3,
     "metadata": {},
     "output_type": "execute_result"
    }
   ],
   "source": [
    "data.head()"
   ]
  },
  {
   "cell_type": "code",
   "execution_count": 4,
   "id": "6064bed3",
   "metadata": {},
   "outputs": [
    {
     "name": "stdout",
     "output_type": "stream",
     "text": [
      "<class 'pandas.core.frame.DataFrame'>\n",
      "RangeIndex: 36285 entries, 0 to 36284\n",
      "Data columns (total 17 columns):\n",
      " #   Column                    Non-Null Count  Dtype  \n",
      "---  ------                    --------------  -----  \n",
      " 0   Booking_ID                36285 non-null  object \n",
      " 1   number of adults          36285 non-null  int64  \n",
      " 2   number of children        36285 non-null  int64  \n",
      " 3   number of weekend nights  36285 non-null  int64  \n",
      " 4   number of week nights     36285 non-null  int64  \n",
      " 5   type of meal              36285 non-null  object \n",
      " 6   car parking space         36285 non-null  int64  \n",
      " 7   room type                 36285 non-null  object \n",
      " 8   lead time                 36285 non-null  int64  \n",
      " 9   market segment type       36285 non-null  object \n",
      " 10  repeated                  36285 non-null  int64  \n",
      " 11  P-C                       36285 non-null  int64  \n",
      " 12  P-not-C                   36285 non-null  int64  \n",
      " 13  average price             36285 non-null  float64\n",
      " 14  special requests          36285 non-null  int64  \n",
      " 15  date of reservation       36285 non-null  object \n",
      " 16  booking status            36285 non-null  object \n",
      "dtypes: float64(1), int64(10), object(6)\n",
      "memory usage: 4.7+ MB\n"
     ]
    }
   ],
   "source": [
    "data.info()"
   ]
  },
  {
   "cell_type": "code",
   "execution_count": 5,
   "id": "19594657",
   "metadata": {},
   "outputs": [
    {
     "data": {
      "text/html": [
       "<div>\n",
       "<style scoped>\n",
       "    .dataframe tbody tr th:only-of-type {\n",
       "        vertical-align: middle;\n",
       "    }\n",
       "\n",
       "    .dataframe tbody tr th {\n",
       "        vertical-align: top;\n",
       "    }\n",
       "\n",
       "    .dataframe thead th {\n",
       "        text-align: right;\n",
       "    }\n",
       "</style>\n",
       "<table border=\"1\" class=\"dataframe\">\n",
       "  <thead>\n",
       "    <tr style=\"text-align: right;\">\n",
       "      <th></th>\n",
       "      <th>number of adults</th>\n",
       "      <th>number of children</th>\n",
       "      <th>number of weekend nights</th>\n",
       "      <th>number of week nights</th>\n",
       "      <th>car parking space</th>\n",
       "      <th>lead time</th>\n",
       "      <th>repeated</th>\n",
       "      <th>P-C</th>\n",
       "      <th>P-not-C</th>\n",
       "      <th>average price</th>\n",
       "      <th>special requests</th>\n",
       "    </tr>\n",
       "  </thead>\n",
       "  <tbody>\n",
       "    <tr>\n",
       "      <th>count</th>\n",
       "      <td>36285.000000</td>\n",
       "      <td>36285.000000</td>\n",
       "      <td>36285.000000</td>\n",
       "      <td>36285.000000</td>\n",
       "      <td>36285.000000</td>\n",
       "      <td>36285.000000</td>\n",
       "      <td>36285.000000</td>\n",
       "      <td>36285.000000</td>\n",
       "      <td>36285.000000</td>\n",
       "      <td>36285.000000</td>\n",
       "      <td>36285.000000</td>\n",
       "    </tr>\n",
       "    <tr>\n",
       "      <th>mean</th>\n",
       "      <td>1.844839</td>\n",
       "      <td>0.105360</td>\n",
       "      <td>0.810693</td>\n",
       "      <td>2.204602</td>\n",
       "      <td>0.030977</td>\n",
       "      <td>85.239851</td>\n",
       "      <td>0.025630</td>\n",
       "      <td>0.023343</td>\n",
       "      <td>0.153369</td>\n",
       "      <td>103.421636</td>\n",
       "      <td>0.619733</td>\n",
       "    </tr>\n",
       "    <tr>\n",
       "      <th>std</th>\n",
       "      <td>0.518813</td>\n",
       "      <td>0.402704</td>\n",
       "      <td>0.870590</td>\n",
       "      <td>1.410946</td>\n",
       "      <td>0.173258</td>\n",
       "      <td>85.938796</td>\n",
       "      <td>0.158032</td>\n",
       "      <td>0.368281</td>\n",
       "      <td>1.753931</td>\n",
       "      <td>35.086469</td>\n",
       "      <td>0.786262</td>\n",
       "    </tr>\n",
       "    <tr>\n",
       "      <th>min</th>\n",
       "      <td>0.000000</td>\n",
       "      <td>0.000000</td>\n",
       "      <td>0.000000</td>\n",
       "      <td>0.000000</td>\n",
       "      <td>0.000000</td>\n",
       "      <td>0.000000</td>\n",
       "      <td>0.000000</td>\n",
       "      <td>0.000000</td>\n",
       "      <td>0.000000</td>\n",
       "      <td>0.000000</td>\n",
       "      <td>0.000000</td>\n",
       "    </tr>\n",
       "    <tr>\n",
       "      <th>25%</th>\n",
       "      <td>2.000000</td>\n",
       "      <td>0.000000</td>\n",
       "      <td>0.000000</td>\n",
       "      <td>1.000000</td>\n",
       "      <td>0.000000</td>\n",
       "      <td>17.000000</td>\n",
       "      <td>0.000000</td>\n",
       "      <td>0.000000</td>\n",
       "      <td>0.000000</td>\n",
       "      <td>80.300000</td>\n",
       "      <td>0.000000</td>\n",
       "    </tr>\n",
       "    <tr>\n",
       "      <th>50%</th>\n",
       "      <td>2.000000</td>\n",
       "      <td>0.000000</td>\n",
       "      <td>1.000000</td>\n",
       "      <td>2.000000</td>\n",
       "      <td>0.000000</td>\n",
       "      <td>57.000000</td>\n",
       "      <td>0.000000</td>\n",
       "      <td>0.000000</td>\n",
       "      <td>0.000000</td>\n",
       "      <td>99.450000</td>\n",
       "      <td>0.000000</td>\n",
       "    </tr>\n",
       "    <tr>\n",
       "      <th>75%</th>\n",
       "      <td>2.000000</td>\n",
       "      <td>0.000000</td>\n",
       "      <td>2.000000</td>\n",
       "      <td>3.000000</td>\n",
       "      <td>0.000000</td>\n",
       "      <td>126.000000</td>\n",
       "      <td>0.000000</td>\n",
       "      <td>0.000000</td>\n",
       "      <td>0.000000</td>\n",
       "      <td>120.000000</td>\n",
       "      <td>1.000000</td>\n",
       "    </tr>\n",
       "    <tr>\n",
       "      <th>max</th>\n",
       "      <td>4.000000</td>\n",
       "      <td>10.000000</td>\n",
       "      <td>7.000000</td>\n",
       "      <td>17.000000</td>\n",
       "      <td>1.000000</td>\n",
       "      <td>443.000000</td>\n",
       "      <td>1.000000</td>\n",
       "      <td>13.000000</td>\n",
       "      <td>58.000000</td>\n",
       "      <td>540.000000</td>\n",
       "      <td>5.000000</td>\n",
       "    </tr>\n",
       "  </tbody>\n",
       "</table>\n",
       "</div>"
      ],
      "text/plain": [
       "       number of adults  number of children  number of weekend nights  \\\n",
       "count      36285.000000        36285.000000              36285.000000   \n",
       "mean           1.844839            0.105360                  0.810693   \n",
       "std            0.518813            0.402704                  0.870590   \n",
       "min            0.000000            0.000000                  0.000000   \n",
       "25%            2.000000            0.000000                  0.000000   \n",
       "50%            2.000000            0.000000                  1.000000   \n",
       "75%            2.000000            0.000000                  2.000000   \n",
       "max            4.000000           10.000000                  7.000000   \n",
       "\n",
       "       number of week nights  car parking space     lead time      repeated  \\\n",
       "count           36285.000000       36285.000000  36285.000000  36285.000000   \n",
       "mean                2.204602           0.030977     85.239851      0.025630   \n",
       "std                 1.410946           0.173258     85.938796      0.158032   \n",
       "min                 0.000000           0.000000      0.000000      0.000000   \n",
       "25%                 1.000000           0.000000     17.000000      0.000000   \n",
       "50%                 2.000000           0.000000     57.000000      0.000000   \n",
       "75%                 3.000000           0.000000    126.000000      0.000000   \n",
       "max                17.000000           1.000000    443.000000      1.000000   \n",
       "\n",
       "                P-C       P-not-C  average price   special requests  \n",
       "count  36285.000000  36285.000000    36285.000000      36285.000000  \n",
       "mean       0.023343      0.153369      103.421636          0.619733  \n",
       "std        0.368281      1.753931       35.086469          0.786262  \n",
       "min        0.000000      0.000000        0.000000          0.000000  \n",
       "25%        0.000000      0.000000       80.300000          0.000000  \n",
       "50%        0.000000      0.000000       99.450000          0.000000  \n",
       "75%        0.000000      0.000000      120.000000          1.000000  \n",
       "max       13.000000     58.000000      540.000000          5.000000  "
      ]
     },
     "execution_count": 5,
     "metadata": {},
     "output_type": "execute_result"
    }
   ],
   "source": [
    "data.describe()"
   ]
  },
  {
   "cell_type": "code",
   "execution_count": 6,
   "id": "381a0c88",
   "metadata": {
    "scrolled": false
   },
   "outputs": [
    {
     "name": "stdout",
     "output_type": "stream",
     "text": [
      "Booking_ID\n",
      "['INN00001' 'INN00002' 'INN00003' ... 'INN36284' 'INN36285' 'INN36286']\n",
      "--------------------------\n",
      "number of adults\n",
      "[1 2 3 0 4]\n",
      "--------------------------\n",
      "number of children\n",
      "[ 1  0  2  3 10  9]\n",
      "--------------------------\n",
      "number of weekend nights\n",
      "[2 1 0 4 3 6 5 7]\n",
      "--------------------------\n",
      "number of week nights\n",
      "[ 5  3  2  4  0  1 10  6 11  7 15  9 13  8 14 12 17 16]\n",
      "--------------------------\n",
      "type of meal\n",
      "['Meal Plan 1' 'Not Selected' 'Meal Plan 2' 'Meal Plan 3']\n",
      "--------------------------\n",
      "car parking space\n",
      "[0 1]\n",
      "--------------------------\n",
      "room type\n",
      "['Room_Type 1' 'Room_Type 4' 'Room_Type 2' 'Room_Type 6' 'Room_Type 5'\n",
      " 'Room_Type 7' 'Room_Type 3']\n",
      "--------------------------\n",
      "lead time\n",
      "[224   5   1 211  48 346  34  83 121  44   0  35  30  95  47 256  99  12\n",
      " 122   2  37 130  60  56   3 107  72  23 289 247 186  64  96  41  55 146\n",
      "  32  57   7 124 169   6  51  13 100 139 117  39  86  19 192 179  26  74\n",
      " 143 177  18 267 155  46 128  20  40 196 188  17 110  68  73  92 171 134\n",
      " 320 118 189  16  24   8  10 182 116 123 105 443 317 286 148  14  85  25\n",
      "  28  80  11 162  82  27 245 266 112  88  69 273   4  97  31  62 197 280\n",
      " 185 160 104  22 292 109 126 303  81  54  15 161 147  87 127 418 156  58\n",
      " 433 111 195 119  59  78 335 103  70  76 144  49  77  36  79  21  33 164\n",
      " 152  43 102  71 209  93  53 302 239  45 167 113  84   9 166 174  61 151\n",
      "  52  67 282  38 175  89 133  65  66  50 159 386 115 237 125  91  29 221\n",
      " 213 198  75 180 236 120 230  63 136 309 157 268 217  94 305  98  42 154\n",
      " 330 137 184 232 304 114 257 265 191 101 259 149 170 271 207 108 210 222\n",
      " 296 194 145 153 275 158 301 349 200 315 181 263 176 141 270 150 359 244\n",
      " 219 142 138 276 178 163 377 290 216 226 258 254 193 131 208 215 190 381\n",
      " 231 248 106 308 140 173 168 172  90 249 205 129 212 135 220 277 253 132\n",
      " 183 255 223 336 288 229 319 199 203 228 246 235 294 281 202 361 287 291\n",
      " 313 206 269 279 261 214 274 250 187 240 241 323 322 227 225 233 338 283\n",
      " 327 204 352 165 251 299 314 285 238 328 278 332 243 201 307 272 252 242\n",
      " 284 297 324 260 262 326 295 218 234 353 300 355 306 298 331 341 318 333\n",
      " 372 311 310 345 264 325 293 348 350 351]\n",
      "--------------------------\n",
      "market segment type\n",
      "['Offline' 'Online' 'Corporate' 'Aviation' 'Complementary']\n",
      "--------------------------\n",
      "repeated\n",
      "[0 1]\n",
      "--------------------------\n",
      "P-C\n",
      "[ 0  3  1  2 11  4  5 13  6]\n",
      "--------------------------\n",
      "P-not-C\n",
      "[ 0  5  1  3  4 12 19  2 15 17  7 20 16 50 13  6 14 34 18  8 10 23 11 49\n",
      " 47 53  9 33 22 24 52 21 48 28 39 25 31 38 26 51 42 37 35 56 44 27 32 55\n",
      " 45 30 57 46 54 43 58 41 29 40 36]\n",
      "--------------------------\n",
      "average price \n",
      "[ 88.   106.68  50.   ... 118.43 137.25 167.8 ]\n",
      "--------------------------\n",
      "special requests\n",
      "[0 1 3 2 4 5]\n",
      "--------------------------\n",
      "date of reservation\n",
      "['10/2/2015' '11/6/2018' '2/28/2018' '5/20/2017' '4/11/2018' '9/13/2016'\n",
      " '10/15/2017' '12/26/2018' '7/6/2018' '10/18/2018' '9/11/2018' '4/30/2018'\n",
      " '11/26/2018' '11/20/2018' '10/20/2017' '6/15/2018' '10/5/2017'\n",
      " '8/10/2017' '10/30/2017' '10/4/2017' '11/25/2018' '3/20/2018'\n",
      " '10/13/2018' '5/22/2018' '4/28/2018' '9/21/2017' '5/19/2018' '11/6/2017'\n",
      " '9/17/2017' '9/19/2017' '11/13/2018' '12/7/2018' '1/9/2018' '10/7/2018'\n",
      " '4/27/2018' '6/19/2018' '10/17/2017' '11/19/2018' '7/30/2018' '11/1/2018'\n",
      " '6/21/2018' '4/10/2018' '6/27/2018' '11/18/2017' '12/29/2017'\n",
      " '11/20/2017' '4/6/2018' '12/29/2018' '5/30/2018' '4/22/2018' '5/16/2018'\n",
      " '11/11/2017' '6/13/2018' '7/28/2018' '4/20/2018' '9/2/2018' '5/3/2018'\n",
      " '6/24/2018' '9/10/2017' '12/18/2018' '10/5/2018' '6/3/2018' '4/15/2018'\n",
      " '4/25/2018' '8/25/2018' '11/14/2018' '8/29/2018' '10/25/2017' '3/9/2018'\n",
      " '12/31/2018' '6/28/2018' '3/29/2018' '4/1/2018' '10/11/2018' '12/25/2018'\n",
      " '3/14/2018' '3/4/2018' '10/17/2018' '9/4/2018' '12/10/2018' '8/9/2018'\n",
      " '5/5/2018' '3/18/2018' '4/9/2018' '8/30/2018' '8/4/2018' '8/18/2018'\n",
      " '4/13/2018' '11/17/2018' '12/22/2018' '10/23/2018' '5/13/2018'\n",
      " '12/13/2018' '10/31/2017' '10/8/2017' '2/16/2018' '11/2/2017' '6/30/2018'\n",
      " '9/5/2017' '9/30/2018' '6/16/2018' '6/26/2018' '8/13/2018' '11/12/2018'\n",
      " '4/29/2018' '11/14/2017' '9/1/2018' '9/16/2018' '3/10/2018' '4/24/2018'\n",
      " '3/30/2018' '11/3/2018' '10/14/2018' '6/5/2018' '7/13/2018' '10/20/2018'\n",
      " '12/28/2018' '10/19/2017' '10/9/2017' '7/25/2018' '5/9/2018' '6/17/2018'\n",
      " '11/18/2018' '10/30/2018' '3/28/2018' '6/1/2018' '5/4/2018' '4/8/2018'\n",
      " '6/8/2018' '4/7/2018' '5/2/2018' '9/29/2018' '4/4/2018' '7/17/2017'\n",
      " '5/24/2018' '2/17/2018' '4/14/2018' '4/17/2018' '8/1/2018' '7/12/2018'\n",
      " '1/2/2018' '11/16/2018' '9/19/2018' '9/13/2017' '9/15/2018' '12/16/2018'\n",
      " '11/5/2018' '3/22/2018' '8/17/2018' '5/20/2018' '10/24/2017' '7/21/2018'\n",
      " '9/9/2017' '3/31/2018' '4/2/2018' '8/22/2018' '8/8/2018' '8/15/2018'\n",
      " '8/19/2018' '10/10/2018' '10/6/2018' '3/25/2018' '8/3/2018' '9/11/2017'\n",
      " '3/23/2018' '9/26/2018' '8/24/2018' '7/16/2017' '9/8/2018' '8/21/2018'\n",
      " '12/3/2018' '2/27/2018' '9/22/2017' '7/18/2018' '12/5/2018' '8/22/2017'\n",
      " '3/1/2018' '9/5/2018' '6/10/2018' '5/27/2018' '2/5/2018' '5/7/2018'\n",
      " '5/12/2018' '10/28/2018' '10/18/2017' '8/14/2017' '12/2/2018' '9/3/2017'\n",
      " '9/14/2018' '2/8/2018' '10/2/2017' '3/24/2018' '5/31/2018' '11/9/2017'\n",
      " '7/26/2018' '5/21/2018' '9/7/2018' '11/15/2017' '9/16/2017' '10/16/2017'\n",
      " '7/23/2018' '6/11/2018' '1/16/2018' '9/14/2017' '10/15/2018' '9/2/2017'\n",
      " '8/12/2017' '8/23/2017' '3/11/2018' '8/28/2018' '12/9/2018' '6/12/2018'\n",
      " '3/5/2018' '8/18/2017' '4/21/2018' '6/18/2018' '8/10/2018' '3/17/2018'\n",
      " '8/8/2017' '5/1/2018' '4/3/2018' '9/4/2017' '12/27/2017' '2/20/2018'\n",
      " '9/30/2017' '12/26/2017' '7/9/2018' '6/6/2018' '7/17/2018' '2/22/2018'\n",
      " '7/8/2018' '11/11/2018' '10/6/2017' '8/11/2017' '7/25/2017' '12/15/2017'\n",
      " '10/23/2017' '10/10/2017' '10/2/2018' '9/8/2017' '12/21/2018'\n",
      " '11/10/2018' '2/24/2018' '7/1/2018' '7/5/2018' '7/11/2018' '5/14/2018'\n",
      " '10/22/2018' '9/18/2018' '9/3/2018' '9/22/2018' '11/19/2017' '7/10/2018'\n",
      " '9/25/2017' '10/4/2018' '10/27/2018' '3/3/2018' '9/13/2018' '9/15/2017'\n",
      " '2/19/2018' '9/28/2018' '8/12/2018' '10/1/2018' '9/9/2018' '1/29/2018'\n",
      " '8/6/2018' '11/4/2018' '5/29/2018' '1/20/2018' '12/7/2017' '4/5/2018'\n",
      " '7/2/2018' '9/27/2018' '10/21/2017' '9/6/2018' '3/16/2018' '10/24/2018'\n",
      " '5/11/2018' '10/13/2017' '10/16/2018' '10/31/2018' '9/18/2017'\n",
      " '6/23/2018' '8/26/2017' '7/4/2018' '12/8/2018' '12/9/2017' '10/19/2018'\n",
      " '10/22/2017' '3/8/2018' '2/11/2018' '11/23/2018' '6/7/2018' '4/23/2018'\n",
      " '10/21/2018' '12/5/2017' '10/14/2017' '12/24/2017' '6/14/2018' '2/4/2018'\n",
      " '12/17/2017' '8/31/2018' '10/7/2017' '11/29/2018' '11/2/2018' '3/19/2018'\n",
      " '2/3/2018' '4/26/2018' '12/30/2017' '10/3/2018' '6/25/2018' '7/1/2017'\n",
      " '9/6/2017' '12/30/2018' '1/6/2018' '3/13/2018' '6/29/2018' '7/27/2017'\n",
      " '6/20/2018' '2/26/2018' '10/1/2017' '7/14/2018' '7/27/2018' '9/7/2017'\n",
      " '8/25/2017' '2/6/2018' '1/8/2018' '10/26/2018' '11/23/2017' '3/7/2018'\n",
      " '9/20/2018' '1/28/2018' '2/25/2018' '3/21/2018' '12/14/2018' '3/15/2018'\n",
      " '12/23/2018' '7/11/2017' '10/12/2018' '8/9/2017' '2/14/2018' '2/13/2018'\n",
      " '2/15/2018' '4/16/2018' '3/2/2018' '8/14/2018' '12/1/2017' '9/21/2018'\n",
      " '1/3/2018' '5/6/2018' '6/2/2018' '4/12/2018' '12/27/2018' '6/4/2018'\n",
      " '5/25/2018' '12/24/2018' '12/6/2017' '7/19/2018' '11/10/2017'\n",
      " '12/11/2017' '5/26/2018' '1/4/2018' '9/12/2018' '11/3/2017' '2/21/2018'\n",
      " '8/20/2017' '8/19/2017' '10/28/2017' '5/8/2018' '2/12/2018' '2/7/2018'\n",
      " '7/18/2017' '9/20/2017' '9/24/2017' '1/15/2018' '5/10/2018' '8/27/2017'\n",
      " '1/14/2018' '9/23/2018' '8/5/2017' '10/3/2017' '8/20/2018' '10/29/2017'\n",
      " '10/29/2018' '9/10/2018' '8/30/2017' '6/22/2018' '12/4/2017' '8/3/2017'\n",
      " '11/7/2018' '7/3/2018' '12/6/2018' '2/1/2018' '8/2/2018' '12/12/2018'\n",
      " '9/1/2017' '12/10/2017' '1/27/2018' '4/19/2018' '7/16/2018' '7/5/2017'\n",
      " '8/16/2018' '1/25/2018' '7/15/2018' '8/15/2017' '10/12/2017' '9/29/2017'\n",
      " '1/24/2018' '3/27/2018' '8/17/2017' '8/21/2017' '12/31/2017' '11/9/2018'\n",
      " '7/6/2017' '11/8/2018' '7/22/2018' '5/18/2018' '8/27/2018' '11/21/2018'\n",
      " '10/9/2018' '3/6/2018' '9/17/2018' '1/19/2018' '11/15/2018' '12/3/2017'\n",
      " '9/25/2018' '7/7/2018' '4/18/2018' '5/17/2018' '11/27/2018' '10/25/2018'\n",
      " '10/8/2018' '3/26/2018' '11/5/2017' '1/30/2018' '11/8/2017' '6/9/2018'\n",
      " '7/29/2018' '11/28/2017' '12/4/2018' '8/28/2017' '12/18/2017' '9/12/2017'\n",
      " '7/7/2017' '1/7/2018' '11/22/2018' '9/28/2017' '8/29/2017' '8/26/2018'\n",
      " '8/6/2017' '3/12/2018' '2/9/2018' '7/24/2018' '12/22/2017' '11/30/2017'\n",
      " '8/7/2018' '5/15/2018' '12/20/2018' '8/1/2017' '11/1/2017' '12/19/2017'\n",
      " '12/20/2017' '5/23/2018' '11/4/2017' '7/23/2017' '11/13/2017' '7/20/2018'\n",
      " '7/31/2018' '12/11/2018' '12/17/2018' '1/31/2018' '2/23/2018' '12/1/2018'\n",
      " '1/10/2018' '8/24/2017' '2/10/2018' '11/24/2018' '5/28/2018' '9/24/2018'\n",
      " '1/22/2018' '11/27/2017' '11/16/2017' '1/5/2018' '1/13/2018' '8/5/2018'\n",
      " '11/28/2018' '12/23/2017' '1/26/2018' '11/25/2017' '12/16/2017'\n",
      " '1/21/2018' '12/19/2018' '12/15/2018' '11/12/2017' '8/23/2018'\n",
      " '2018-2-29' '11/17/2017' '11/30/2018' '8/4/2017' '10/11/2017' '8/11/2018'\n",
      " '8/7/2017' '1/18/2018' '11/7/2017' '1/12/2018' '9/23/2017' '7/29/2017'\n",
      " '8/31/2017' '7/13/2017' '11/29/2017' '7/15/2017' '12/28/2017'\n",
      " '11/26/2017' '2/2/2018' '8/13/2017' '10/26/2017' '7/9/2017' '2/18/2018'\n",
      " '11/21/2017' '11/24/2017' '10/27/2017' '1/23/2018' '1/1/2018'\n",
      " '12/25/2017' '12/2/2017' '11/22/2017' '12/12/2017' '9/27/2017'\n",
      " '1/17/2018' '12/13/2017' '12/8/2017' '7/31/2017' '8/16/2017' '7/10/2017'\n",
      " '12/14/2017' '9/26/2017' '7/2/2017' '7/4/2017' '7/26/2017' '1/11/2018'\n",
      " '7/30/2017' '12/21/2017' '7/8/2017' '7/20/2017' '7/22/2017' '7/28/2017'\n",
      " '7/24/2017' '7/12/2017' '7/3/2017' '7/19/2017' '7/14/2017' '8/2/2017'\n",
      " '7/21/2017']\n",
      "--------------------------\n",
      "booking status\n",
      "['Not_Canceled' 'Canceled']\n",
      "--------------------------\n"
     ]
    }
   ],
   "source": [
    "col = data.columns\n",
    "for c in col:\n",
    "  print(c)\n",
    "  print(data[c].unique())\n",
    "  print('--------------------------')"
   ]
  },
  {
   "cell_type": "code",
   "execution_count": 7,
   "id": "ac0f36fd",
   "metadata": {
    "scrolled": false
   },
   "outputs": [
    {
     "data": {
      "text/plain": [
       "Booking_ID                  0\n",
       "number of adults            0\n",
       "number of children          0\n",
       "number of weekend nights    0\n",
       "number of week nights       0\n",
       "type of meal                0\n",
       "car parking space           0\n",
       "room type                   0\n",
       "lead time                   0\n",
       "market segment type         0\n",
       "repeated                    0\n",
       "P-C                         0\n",
       "P-not-C                     0\n",
       "average price               0\n",
       "special requests            0\n",
       "date of reservation         0\n",
       "booking status              0\n",
       "dtype: int64"
      ]
     },
     "execution_count": 7,
     "metadata": {},
     "output_type": "execute_result"
    }
   ],
   "source": [
    "data.isnull().sum()"
   ]
  },
  {
   "cell_type": "code",
   "execution_count": 8,
   "id": "998ab9f2",
   "metadata": {},
   "outputs": [],
   "source": [
    "\n",
    "label_encoder = LabelEncoder()\n",
    "data['type of meal'] = label_encoder.fit_transform(data['type of meal'])\n",
    "data['room type'] = label_encoder.fit_transform(data['room type'])\n",
    "data['market segment type'] = label_encoder.fit_transform(data['market segment type'])\n",
    "data['booking status'] = label_encoder.fit_transform(data['booking status'])"
   ]
  },
  {
   "cell_type": "code",
   "execution_count": 9,
   "id": "9ff83f27",
   "metadata": {},
   "outputs": [
    {
     "data": {
      "text/html": [
       "<div>\n",
       "<style scoped>\n",
       "    .dataframe tbody tr th:only-of-type {\n",
       "        vertical-align: middle;\n",
       "    }\n",
       "\n",
       "    .dataframe tbody tr th {\n",
       "        vertical-align: top;\n",
       "    }\n",
       "\n",
       "    .dataframe thead th {\n",
       "        text-align: right;\n",
       "    }\n",
       "</style>\n",
       "<table border=\"1\" class=\"dataframe\">\n",
       "  <thead>\n",
       "    <tr style=\"text-align: right;\">\n",
       "      <th></th>\n",
       "      <th>Booking_ID</th>\n",
       "      <th>number of adults</th>\n",
       "      <th>number of children</th>\n",
       "      <th>number of weekend nights</th>\n",
       "      <th>number of week nights</th>\n",
       "      <th>type of meal</th>\n",
       "      <th>car parking space</th>\n",
       "      <th>room type</th>\n",
       "      <th>lead time</th>\n",
       "      <th>market segment type</th>\n",
       "      <th>repeated</th>\n",
       "      <th>P-C</th>\n",
       "      <th>P-not-C</th>\n",
       "      <th>average price</th>\n",
       "      <th>special requests</th>\n",
       "      <th>date of reservation</th>\n",
       "      <th>booking status</th>\n",
       "    </tr>\n",
       "  </thead>\n",
       "  <tbody>\n",
       "    <tr>\n",
       "      <th>0</th>\n",
       "      <td>INN00001</td>\n",
       "      <td>1</td>\n",
       "      <td>1</td>\n",
       "      <td>2</td>\n",
       "      <td>5</td>\n",
       "      <td>0</td>\n",
       "      <td>0</td>\n",
       "      <td>0</td>\n",
       "      <td>224</td>\n",
       "      <td>3</td>\n",
       "      <td>0</td>\n",
       "      <td>0</td>\n",
       "      <td>0</td>\n",
       "      <td>88.00</td>\n",
       "      <td>0</td>\n",
       "      <td>10/2/2015</td>\n",
       "      <td>1</td>\n",
       "    </tr>\n",
       "    <tr>\n",
       "      <th>1</th>\n",
       "      <td>INN00002</td>\n",
       "      <td>1</td>\n",
       "      <td>0</td>\n",
       "      <td>1</td>\n",
       "      <td>3</td>\n",
       "      <td>3</td>\n",
       "      <td>0</td>\n",
       "      <td>0</td>\n",
       "      <td>5</td>\n",
       "      <td>4</td>\n",
       "      <td>0</td>\n",
       "      <td>0</td>\n",
       "      <td>0</td>\n",
       "      <td>106.68</td>\n",
       "      <td>1</td>\n",
       "      <td>11/6/2018</td>\n",
       "      <td>1</td>\n",
       "    </tr>\n",
       "    <tr>\n",
       "      <th>2</th>\n",
       "      <td>INN00003</td>\n",
       "      <td>2</td>\n",
       "      <td>1</td>\n",
       "      <td>1</td>\n",
       "      <td>3</td>\n",
       "      <td>0</td>\n",
       "      <td>0</td>\n",
       "      <td>0</td>\n",
       "      <td>1</td>\n",
       "      <td>4</td>\n",
       "      <td>0</td>\n",
       "      <td>0</td>\n",
       "      <td>0</td>\n",
       "      <td>50.00</td>\n",
       "      <td>0</td>\n",
       "      <td>2/28/2018</td>\n",
       "      <td>0</td>\n",
       "    </tr>\n",
       "    <tr>\n",
       "      <th>3</th>\n",
       "      <td>INN00004</td>\n",
       "      <td>1</td>\n",
       "      <td>0</td>\n",
       "      <td>0</td>\n",
       "      <td>2</td>\n",
       "      <td>0</td>\n",
       "      <td>0</td>\n",
       "      <td>0</td>\n",
       "      <td>211</td>\n",
       "      <td>4</td>\n",
       "      <td>0</td>\n",
       "      <td>0</td>\n",
       "      <td>0</td>\n",
       "      <td>100.00</td>\n",
       "      <td>1</td>\n",
       "      <td>5/20/2017</td>\n",
       "      <td>0</td>\n",
       "    </tr>\n",
       "    <tr>\n",
       "      <th>4</th>\n",
       "      <td>INN00005</td>\n",
       "      <td>1</td>\n",
       "      <td>0</td>\n",
       "      <td>1</td>\n",
       "      <td>2</td>\n",
       "      <td>3</td>\n",
       "      <td>0</td>\n",
       "      <td>0</td>\n",
       "      <td>48</td>\n",
       "      <td>4</td>\n",
       "      <td>0</td>\n",
       "      <td>0</td>\n",
       "      <td>0</td>\n",
       "      <td>77.00</td>\n",
       "      <td>0</td>\n",
       "      <td>4/11/2018</td>\n",
       "      <td>0</td>\n",
       "    </tr>\n",
       "  </tbody>\n",
       "</table>\n",
       "</div>"
      ],
      "text/plain": [
       "  Booking_ID  number of adults  number of children  number of weekend nights  \\\n",
       "0   INN00001                 1                   1                         2   \n",
       "1   INN00002                 1                   0                         1   \n",
       "2   INN00003                 2                   1                         1   \n",
       "3   INN00004                 1                   0                         0   \n",
       "4   INN00005                 1                   0                         1   \n",
       "\n",
       "   number of week nights  type of meal  car parking space  room type  \\\n",
       "0                      5             0                  0          0   \n",
       "1                      3             3                  0          0   \n",
       "2                      3             0                  0          0   \n",
       "3                      2             0                  0          0   \n",
       "4                      2             3                  0          0   \n",
       "\n",
       "   lead time  market segment type  repeated  P-C  P-not-C  average price   \\\n",
       "0        224                    3         0    0        0           88.00   \n",
       "1          5                    4         0    0        0          106.68   \n",
       "2          1                    4         0    0        0           50.00   \n",
       "3        211                    4         0    0        0          100.00   \n",
       "4         48                    4         0    0        0           77.00   \n",
       "\n",
       "   special requests date of reservation  booking status  \n",
       "0                 0           10/2/2015               1  \n",
       "1                 1           11/6/2018               1  \n",
       "2                 0           2/28/2018               0  \n",
       "3                 1           5/20/2017               0  \n",
       "4                 0           4/11/2018               0  "
      ]
     },
     "execution_count": 9,
     "metadata": {},
     "output_type": "execute_result"
    }
   ],
   "source": [
    "data.head()"
   ]
  },
  {
   "cell_type": "code",
   "execution_count": 10,
   "id": "4cd47d29",
   "metadata": {},
   "outputs": [],
   "source": [
    "data['date of reservation'] = pd.to_datetime(data['date of reservation'], errors='coerce')\n",
    "data = data.dropna(subset=['date of reservation'])"
   ]
  },
  {
   "cell_type": "code",
   "execution_count": 11,
   "id": "264c0254",
   "metadata": {},
   "outputs": [],
   "source": [
    "data['year'] = data['date of reservation'].dt.year\n",
    "data['month'] = data['date of reservation'].dt.month\n",
    "data['day'] = data['date of reservation'].dt.day"
   ]
  },
  {
   "cell_type": "code",
   "execution_count": 12,
   "id": "a1f6b98b",
   "metadata": {},
   "outputs": [],
   "source": [
    "data.drop(['Booking_ID', 'date of reservation'], axis=1, inplace=True)"
   ]
  },
  {
   "cell_type": "code",
   "execution_count": 13,
   "id": "199436de",
   "metadata": {},
   "outputs": [
    {
     "data": {
      "text/html": [
       "<div>\n",
       "<style scoped>\n",
       "    .dataframe tbody tr th:only-of-type {\n",
       "        vertical-align: middle;\n",
       "    }\n",
       "\n",
       "    .dataframe tbody tr th {\n",
       "        vertical-align: top;\n",
       "    }\n",
       "\n",
       "    .dataframe thead th {\n",
       "        text-align: right;\n",
       "    }\n",
       "</style>\n",
       "<table border=\"1\" class=\"dataframe\">\n",
       "  <thead>\n",
       "    <tr style=\"text-align: right;\">\n",
       "      <th></th>\n",
       "      <th>number of adults</th>\n",
       "      <th>number of children</th>\n",
       "      <th>number of weekend nights</th>\n",
       "      <th>number of week nights</th>\n",
       "      <th>type of meal</th>\n",
       "      <th>car parking space</th>\n",
       "      <th>room type</th>\n",
       "      <th>lead time</th>\n",
       "      <th>market segment type</th>\n",
       "      <th>repeated</th>\n",
       "      <th>P-C</th>\n",
       "      <th>P-not-C</th>\n",
       "      <th>average price</th>\n",
       "      <th>special requests</th>\n",
       "      <th>booking status</th>\n",
       "      <th>year</th>\n",
       "      <th>month</th>\n",
       "      <th>day</th>\n",
       "    </tr>\n",
       "  </thead>\n",
       "  <tbody>\n",
       "    <tr>\n",
       "      <th>0</th>\n",
       "      <td>1</td>\n",
       "      <td>1</td>\n",
       "      <td>2</td>\n",
       "      <td>5</td>\n",
       "      <td>0</td>\n",
       "      <td>0</td>\n",
       "      <td>0</td>\n",
       "      <td>224</td>\n",
       "      <td>3</td>\n",
       "      <td>0</td>\n",
       "      <td>0</td>\n",
       "      <td>0</td>\n",
       "      <td>88.00</td>\n",
       "      <td>0</td>\n",
       "      <td>1</td>\n",
       "      <td>2015</td>\n",
       "      <td>10</td>\n",
       "      <td>2</td>\n",
       "    </tr>\n",
       "    <tr>\n",
       "      <th>1</th>\n",
       "      <td>1</td>\n",
       "      <td>0</td>\n",
       "      <td>1</td>\n",
       "      <td>3</td>\n",
       "      <td>3</td>\n",
       "      <td>0</td>\n",
       "      <td>0</td>\n",
       "      <td>5</td>\n",
       "      <td>4</td>\n",
       "      <td>0</td>\n",
       "      <td>0</td>\n",
       "      <td>0</td>\n",
       "      <td>106.68</td>\n",
       "      <td>1</td>\n",
       "      <td>1</td>\n",
       "      <td>2018</td>\n",
       "      <td>11</td>\n",
       "      <td>6</td>\n",
       "    </tr>\n",
       "    <tr>\n",
       "      <th>2</th>\n",
       "      <td>2</td>\n",
       "      <td>1</td>\n",
       "      <td>1</td>\n",
       "      <td>3</td>\n",
       "      <td>0</td>\n",
       "      <td>0</td>\n",
       "      <td>0</td>\n",
       "      <td>1</td>\n",
       "      <td>4</td>\n",
       "      <td>0</td>\n",
       "      <td>0</td>\n",
       "      <td>0</td>\n",
       "      <td>50.00</td>\n",
       "      <td>0</td>\n",
       "      <td>0</td>\n",
       "      <td>2018</td>\n",
       "      <td>2</td>\n",
       "      <td>28</td>\n",
       "    </tr>\n",
       "    <tr>\n",
       "      <th>3</th>\n",
       "      <td>1</td>\n",
       "      <td>0</td>\n",
       "      <td>0</td>\n",
       "      <td>2</td>\n",
       "      <td>0</td>\n",
       "      <td>0</td>\n",
       "      <td>0</td>\n",
       "      <td>211</td>\n",
       "      <td>4</td>\n",
       "      <td>0</td>\n",
       "      <td>0</td>\n",
       "      <td>0</td>\n",
       "      <td>100.00</td>\n",
       "      <td>1</td>\n",
       "      <td>0</td>\n",
       "      <td>2017</td>\n",
       "      <td>5</td>\n",
       "      <td>20</td>\n",
       "    </tr>\n",
       "    <tr>\n",
       "      <th>4</th>\n",
       "      <td>1</td>\n",
       "      <td>0</td>\n",
       "      <td>1</td>\n",
       "      <td>2</td>\n",
       "      <td>3</td>\n",
       "      <td>0</td>\n",
       "      <td>0</td>\n",
       "      <td>48</td>\n",
       "      <td>4</td>\n",
       "      <td>0</td>\n",
       "      <td>0</td>\n",
       "      <td>0</td>\n",
       "      <td>77.00</td>\n",
       "      <td>0</td>\n",
       "      <td>0</td>\n",
       "      <td>2018</td>\n",
       "      <td>4</td>\n",
       "      <td>11</td>\n",
       "    </tr>\n",
       "  </tbody>\n",
       "</table>\n",
       "</div>"
      ],
      "text/plain": [
       "   number of adults  number of children  number of weekend nights  \\\n",
       "0                 1                   1                         2   \n",
       "1                 1                   0                         1   \n",
       "2                 2                   1                         1   \n",
       "3                 1                   0                         0   \n",
       "4                 1                   0                         1   \n",
       "\n",
       "   number of week nights  type of meal  car parking space  room type  \\\n",
       "0                      5             0                  0          0   \n",
       "1                      3             3                  0          0   \n",
       "2                      3             0                  0          0   \n",
       "3                      2             0                  0          0   \n",
       "4                      2             3                  0          0   \n",
       "\n",
       "   lead time  market segment type  repeated  P-C  P-not-C  average price   \\\n",
       "0        224                    3         0    0        0           88.00   \n",
       "1          5                    4         0    0        0          106.68   \n",
       "2          1                    4         0    0        0           50.00   \n",
       "3        211                    4         0    0        0          100.00   \n",
       "4         48                    4         0    0        0           77.00   \n",
       "\n",
       "   special requests  booking status  year  month  day  \n",
       "0                 0               1  2015     10    2  \n",
       "1                 1               1  2018     11    6  \n",
       "2                 0               0  2018      2   28  \n",
       "3                 1               0  2017      5   20  \n",
       "4                 0               0  2018      4   11  "
      ]
     },
     "execution_count": 13,
     "metadata": {},
     "output_type": "execute_result"
    }
   ],
   "source": [
    "data.head()"
   ]
  },
  {
   "cell_type": "code",
   "execution_count": 14,
   "id": "989ee0d0",
   "metadata": {
    "scrolled": false
   },
   "outputs": [
    {
     "name": "stdout",
     "output_type": "stream",
     "text": [
      "<class 'pandas.core.frame.DataFrame'>\n",
      "Index: 36248 entries, 0 to 36284\n",
      "Data columns (total 18 columns):\n",
      " #   Column                    Non-Null Count  Dtype  \n",
      "---  ------                    --------------  -----  \n",
      " 0   number of adults          36248 non-null  int64  \n",
      " 1   number of children        36248 non-null  int64  \n",
      " 2   number of weekend nights  36248 non-null  int64  \n",
      " 3   number of week nights     36248 non-null  int64  \n",
      " 4   type of meal              36248 non-null  int32  \n",
      " 5   car parking space         36248 non-null  int64  \n",
      " 6   room type                 36248 non-null  int32  \n",
      " 7   lead time                 36248 non-null  int64  \n",
      " 8   market segment type       36248 non-null  int32  \n",
      " 9   repeated                  36248 non-null  int64  \n",
      " 10  P-C                       36248 non-null  int64  \n",
      " 11  P-not-C                   36248 non-null  int64  \n",
      " 12  average price             36248 non-null  float64\n",
      " 13  special requests          36248 non-null  int64  \n",
      " 14  booking status            36248 non-null  int32  \n",
      " 15  year                      36248 non-null  int32  \n",
      " 16  month                     36248 non-null  int32  \n",
      " 17  day                       36248 non-null  int32  \n",
      "dtypes: float64(1), int32(7), int64(10)\n",
      "memory usage: 4.3 MB\n"
     ]
    }
   ],
   "source": [
    "data.info()"
   ]
  },
  {
   "cell_type": "code",
   "execution_count": 15,
   "id": "fcb6dabb",
   "metadata": {
    "scrolled": false
   },
   "outputs": [
    {
     "name": "stdout",
     "output_type": "stream",
     "text": [
      "number of adults\n",
      "[1 2 3 0 4]\n",
      "----------------------------\n",
      "number of children\n",
      "[ 1  0  2  3 10  9]\n",
      "----------------------------\n",
      "number of weekend nights\n",
      "[2 1 0 4 3 6 5 7]\n",
      "----------------------------\n",
      "number of week nights\n",
      "[ 5  3  2  4  0  1 10  6 11  7 15  9 13  8 14 12 17 16]\n",
      "----------------------------\n",
      "type of meal\n",
      "[0 3 1 2]\n",
      "----------------------------\n",
      "car parking space\n",
      "[0 1]\n",
      "----------------------------\n",
      "room type\n",
      "[0 3 1 5 4 6 2]\n",
      "----------------------------\n",
      "lead time\n",
      "[224   5   1 211  48 346  34  83 121  44   0  35  30  95  47 256  99  12\n",
      " 122   2  37 130  60  56   3 107  72  23 289 247 186  64  96  41  55 146\n",
      "  32  57   7 124 169   6  51  13 100 139 117  39  86  19 192 179  26  74\n",
      " 143 177  18 267 155  46 128  20  40 196 188  17 110  68  73  92 171 134\n",
      " 320 118 189  16  24   8  10 182 116 123 105 443 317 286 148  14  85  25\n",
      "  28  80  11 162  82  27 245 266 112  88  69 273   4  97  31  62 197 280\n",
      " 185 160 104  22 292 109 126 303  81  54  15 161 147  87 127 418 156  58\n",
      " 433 111 195 119  59  78 335 103  70  76 144  49  77  36  79  21  33 164\n",
      " 152  43 102  71 209  93  53 302 239  45 167 113  84   9 166 174  61 151\n",
      "  52  67 282  38 175  89 133  65  66  50 159 386 115 237 125  91  29 221\n",
      " 213 198  75 180 236 120 230  63 136 309 157 268 217  94 305  98  42 154\n",
      " 330 137 184 232 304 114 257 265 191 101 259 149 170 271 207 108 210 222\n",
      " 296 194 145 153 275 158 301 349 200 315 181 263 176 141 270 150 359 244\n",
      " 219 142 138 276 178 163 377 290 216 226 258 254 193 131 208 215 190 381\n",
      " 231 248 106 308 140 173 168 172  90 249 205 129 212 135 220 277 253 132\n",
      " 183 255 223 336 288 229 319 199 203 228 246 235 294 281 202 361 287 291\n",
      " 313 206 269 279 261 214 274 250 187 240 241 323 322 227 225 233 338 283\n",
      " 327 204 352 165 251 299 314 285 238 328 278 332 243 201 307 272 252 242\n",
      " 284 297 324 260 262 326 295 218 234 353 300 355 306 298 331 341 318 333\n",
      " 372 311 310 345 264 325 293 348 350 351]\n",
      "----------------------------\n",
      "market segment type\n",
      "[3 4 2 0 1]\n",
      "----------------------------\n",
      "repeated\n",
      "[0 1]\n",
      "----------------------------\n",
      "P-C\n",
      "[ 0  3  1  2 11  4  5 13  6]\n",
      "----------------------------\n",
      "P-not-C\n",
      "[ 0  5  1  3  4 12 19  2 15 17  7 20 16 50 13  6 14 34 18  8 10 23 11 49\n",
      " 47 53  9 33 22 24 52 21 48 28 39 25 31 38 26 51 42 37 35 56 44 27 32 55\n",
      " 45 30 57 46 54 43 58 41 29 40 36]\n",
      "----------------------------\n",
      "average price \n",
      "[ 88.   106.68  50.   ... 118.43 137.25 167.8 ]\n",
      "----------------------------\n",
      "special requests\n",
      "[0 1 3 2 4 5]\n",
      "----------------------------\n",
      "booking status\n",
      "[1 0]\n",
      "----------------------------\n",
      "year\n",
      "[2015 2018 2017 2016]\n",
      "----------------------------\n",
      "month\n",
      "[10 11  2  5  4  9 12  7  6  8  3  1]\n",
      "----------------------------\n",
      "day\n",
      "[ 2  6 28 20 11 13 15 26 18 30  5 10  4 25 22 21 19 17  7  9 27  1 29 16\n",
      "  3 24 14 31 23  8 12]\n",
      "----------------------------\n"
     ]
    }
   ],
   "source": [
    "col = data.columns\n",
    "for c in col:\n",
    "  print(c)\n",
    "  print(data[c].unique())\n",
    "  print('----------------------------')"
   ]
  },
  {
   "cell_type": "code",
   "execution_count": 16,
   "id": "37cdb493",
   "metadata": {},
   "outputs": [],
   "source": [
    "data = data.drop_duplicates()"
   ]
  },
  {
   "cell_type": "code",
   "execution_count": 17,
   "id": "055fc420",
   "metadata": {},
   "outputs": [
    {
     "data": {
      "image/png": "[encoded data removed]",
      "text/plain": [
       "<Figure size 2000x1000 with 1 Axes>"
      ]
     },
     "metadata": {},
     "output_type": "display_data"
    }
   ],
   "source": [
    "plt.figure(figsize=(20, 10))\n",
    "sns.boxplot(data=data, orient=\"h\", palette=\"coolwarm\")\n",
    "plt.title(\"Box Plot for Every Numerical Variable\", fontsize=14)\n",
    "plt.xlabel(\"Values\")\n",
    "plt.ylabel(\"Features\")\n",
    "\n",
    "plt.show()"
   ]
  },
  {
   "cell_type": "code",
   "execution_count": 18,
   "id": "b8ae8f11",
   "metadata": {},
   "outputs": [],
   "source": [
    "def remove_outliers_iqr(df, column):\n",
    "    Q1 = df[column].quantile(0.25)\n",
    "    Q3 = df[column].quantile(0.75)\n",
    "    IQR = Q3 - Q1\n",
    "    lower_bound = Q1 - 1.5 * IQR\n",
    "    upper_bound = Q3 + 1.5 * IQR\n",
    "    return df[(df[column] >= lower_bound) & (df[column] <= upper_bound)]\n",
    "\n",
    "numeric_columns = data.select_dtypes(include=[np.number]).columns\n",
    "\n",
    "for col in numeric_columns:\n",
    "    data = remove_outliers_iqr(data, col)"
   ]
  },
  {
   "cell_type": "code",
   "execution_count": 19,
   "id": "a4c129e2",
   "metadata": {
    "scrolled": false
   },
   "outputs": [
    {
     "data": {
      "image/png": "[encoded data removed]",
      "text/plain": [
       "<Figure size 2000x1000 with 1 Axes>"
      ]
     },
     "metadata": {},
     "output_type": "display_data"
    }
   ],
   "source": [
    "plt.figure(figsize=(20, 10))\n",
    "sns.boxplot(data=data, orient=\"h\", palette=\"coolwarm\")\n",
    "plt.title(\"Box Plot for Every Numerical Variable after remove_outliers\", fontsize=16)\n",
    "plt.xlabel(\"Values\")\n",
    "plt.ylabel(\"Features\")\n",
    "\n",
    "plt.show()"
   ]
  },
  {
   "cell_type": "code",
   "execution_count": 20,
   "id": "c74ab61a",
   "metadata": {},
   "outputs": [],
   "source": [
    "columns_to_scale = ['type of meal', 'room type', 'market segment type', 'year', 'month', 'day']\n",
    "scaler = StandardScaler()\n",
    "data[columns_to_scale] = scaler.fit_transform(data[columns_to_scale])"
   ]
  },
  {
   "cell_type": "code",
   "execution_count": 21,
   "id": "a7fb1224",
   "metadata": {},
   "outputs": [],
   "source": [
    "from sklearn.feature_selection import RFE, SelectKBest, f_classif, SelectFromModel, mutual_info_classif"
   ]
  },
  {
   "cell_type": "code",
   "execution_count": 22,
   "id": "16f38107",
   "metadata": {},
   "outputs": [],
   "source": [
    "X = data.drop(columns=['booking status'])\n",
    "y = data['booking status']"
   ]
  },
  {
   "cell_type": "code",
   "execution_count": 23,
   "id": "155a08c5",
   "metadata": {},
   "outputs": [],
   "source": [
    "X_train, X_test, y_train, y_test = train_test_split(X, y, test_size=0.2, random_state=42)"
   ]
  },
  {
   "cell_type": "code",
   "execution_count": 24,
   "id": "c5c70361",
   "metadata": {},
   "outputs": [],
   "source": [
    "models = {\n",
    "    'RandomForest': (RandomForestClassifier(random_state=42), {\n",
    "        'n_estimators': [100, 200, 300],\n",
    "        'max_depth': [10, 20, 30],\n",
    "        'min_samples_split': [2, 5, 10]\n",
    "    }),\n",
    "    'LogisticRegression': (LogisticRegression(), {\n",
    "        'C': [0.1, 1, 10],\n",
    "        'solver': ['liblinear', 'lbfgs']\n",
    "    }),\n",
    "    'DecisionTree': (DecisionTreeClassifier(random_state=42), {\n",
    "        'max_depth': [10, 20, 30],\n",
    "        'min_samples_split': [2, 5, 10]\n",
    "    }),\n",
    "    'MLPClassifier': (MLPClassifier(random_state=42), {\n",
    "        'hidden_layer_sizes': [(50,), (100,), (50, 50)],\n",
    "        'activation': ['tanh', 'relu'],\n",
    "        'solver': ['sgd', 'adam'],\n",
    "        'alpha': [0.0001, 0.001, 0.01],\n",
    "        'learning_rate': ['constant', 'adaptive']\n",
    "    })\n",
    "}"
   ]
  },
  {
   "cell_type": "code",
   "execution_count": 25,
   "id": "d00795fa",
   "metadata": {},
   "outputs": [],
   "source": [
    "rfe = RFE(estimator=RandomForestClassifier(random_state=42), n_features_to_select=10)\n",
    "rfe.fit(X_train, y_train)\n",
    "selected_features_rfe = X.columns[rfe.support_]"
   ]
  },
  {
   "cell_type": "code",
   "execution_count": 26,
   "id": "c1f016d2",
   "metadata": {},
   "outputs": [
    {
     "data": {
      "text/plain": [
       "Index(['number of weekend nights', 'number of week nights', 'type of meal',\n",
       "       'room type', 'lead time', 'average price ', 'special requests', 'year',\n",
       "       'month', 'day'],\n",
       "      dtype='object')"
      ]
     },
     "execution_count": 26,
     "metadata": {},
     "output_type": "execute_result"
    }
   ],
   "source": [
    "selected_features_rfe"
   ]
  },
  {
   "cell_type": "code",
   "execution_count": 27,
   "id": "bd140710",
   "metadata": {},
   "outputs": [],
   "source": [
    "X_selected = X[selected_features_rfe]"
   ]
  },
  {
   "cell_type": "code",
   "execution_count": 28,
   "id": "2421bf18",
   "metadata": {},
   "outputs": [],
   "source": [
    "X_train, X_test, y_train, y_test = train_test_split(X_selected, y, test_size=0.2, random_state=42)"
   ]
  },
  {
   "cell_type": "code",
   "execution_count": 29,
   "id": "5c47ffe9",
   "metadata": {},
   "outputs": [
    {
     "name": "stdout",
     "output_type": "stream",
     "text": [
      "Fitting 5 folds for each of 27 candidates, totalling 135 fits\n",
      "RandomForest Accuracy: 0.8123667377398721\n",
      "Fitting 5 folds for each of 6 candidates, totalling 30 fits\n"
     ]
    },
    {
     "name": "stderr",
     "output_type": "stream",
     "text": [
      "c:\\Users\\user\\OneDrive\\Desktop\\Task3_Mohammad-Al-Quraan\\.venv\\Lib\\site-packages\\sklearn\\linear_model\\_logistic.py:469: ConvergenceWarning: lbfgs failed to converge (status=1):\n",
      "STOP: TOTAL NO. of ITERATIONS REACHED LIMIT.\n",
      "\n",
      "Increase the number of iterations (max_iter) or scale the data as shown in:\n",
      "    https://scikit-learn.org/stable/modules/preprocessing.html\n",
      "Please also refer to the documentation for alternative solver options:\n",
      "    https://scikit-learn.org/stable/modules/linear_model.html#logistic-regression\n",
      "  n_iter_i = _check_optimize_result(\n"
     ]
    },
    {
     "name": "stdout",
     "output_type": "stream",
     "text": [
      "LogisticRegression Accuracy: 0.7611940298507462\n",
      "Fitting 5 folds for each of 9 candidates, totalling 45 fits\n",
      "DecisionTree Accuracy: 0.7839374555792467\n",
      "Fitting 5 folds for each of 72 candidates, totalling 360 fits\n",
      "MLPClassifier Accuracy: 0.7917555081734187\n",
      "RandomForestClassifier(max_depth=10, n_estimators=200, random_state=42) Accuracy: 0.8123667377398721\n"
     ]
    }
   ],
   "source": [
    "best_model_rfe = None\n",
    "best_accuracy_rfe = 0\n",
    "\n",
    "for model_name, (model, param_grid) in models.items():\n",
    "    grid_search = GridSearchCV(estimator=model, param_grid=param_grid, cv=5, n_jobs=-1, verbose=2)\n",
    "    grid_search.fit(X_train, y_train)\n",
    "    best_estimator = grid_search.best_estimator_\n",
    "    y_pred = best_estimator.predict(X_test)\n",
    "    accuracy = accuracy_score(y_test, y_pred)\n",
    "    \n",
    "    print(f\"{model_name} Accuracy: {accuracy}\")\n",
    "    \n",
    "    if accuracy > best_accuracy_rfe:\n",
    "        best_accuracy_rfe = accuracy\n",
    "        best_model_rfe = best_estimator\n",
    "    \n",
    "print(best_model_rfe, \"Accuracy:\", best_accuracy_rfe)"
   ]
  },
  {
   "cell_type": "code",
   "execution_count": 30,
   "id": "dd42abe3",
   "metadata": {},
   "outputs": [],
   "source": [
    "y_pred = best_model_rfe.predict(X_test)\n",
    "cm = confusion_matrix(y_test, y_pred)\n",
    "accuracy = accuracy_score(y_test, y_pred)\n",
    "cr = classification_report(y_test, y_pred)"
   ]
  },
  {
   "cell_type": "code",
   "execution_count": 31,
   "id": "ad803bf2",
   "metadata": {},
   "outputs": [
    {
     "name": "stdout",
     "output_type": "stream",
     "text": [
      "[[360 151]\n",
      " [113 783]]\n",
      "Accuracy = 0.8123667377398721\n",
      "              precision    recall  f1-score   support\n",
      "\n",
      "           0       0.76      0.70      0.73       511\n",
      "           1       0.84      0.87      0.86       896\n",
      "\n",
      "    accuracy                           0.81      1407\n",
      "   macro avg       0.80      0.79      0.79      1407\n",
      "weighted avg       0.81      0.81      0.81      1407\n",
      "\n"
     ]
    }
   ],
   "source": [
    "print(cm)\n",
    "print('Accuracy =', accuracy)\n",
    "print(cr)"
   ]
  },
  {
   "cell_type": "code",
   "execution_count": 32,
   "id": "b3404770",
   "metadata": {},
   "outputs": [],
   "source": [
    "y_train_pred = best_model_rfe.predict(X_train)\n",
    "y_test_pred = best_model_rfe.predict(X_test)"
   ]
  },
  {
   "cell_type": "code",
   "execution_count": 33,
   "id": "9832c239",
   "metadata": {},
   "outputs": [
    {
     "name": "stdout",
     "output_type": "stream",
     "text": [
      "0.8637980085348507\n",
      "0.8123667377398721\n"
     ]
    }
   ],
   "source": [
    "train_accuracy = accuracy_score(y_train, y_train_pred)\n",
    "test_accuracy = accuracy_score(y_test, y_test_pred)\n",
    "\n",
    "print(train_accuracy)\n",
    "print(test_accuracy)"
   ]
  },
  {
   "cell_type": "code",
   "execution_count": 34,
   "id": "a677f27b",
   "metadata": {},
   "outputs": [],
   "source": [
    "import pickle"
   ]
  },
  {
   "cell_type": "code",
   "execution_count": 35,
   "id": "853f2822",
   "metadata": {},
   "outputs": [],
   "source": [
    "with open('best_model_selected_features.pkl', 'wb') as file:\n",
    "    pickle.dump(best_model_rfe, file)"
   ]
  },
  {
   "cell_type": "markdown",
   "id": "c6a84c5a",
   "metadata": {},
   "source": [
    "-------------------------------------------------------------------------------------------------------------------------------------------------------------------"
   ]
  },
  {
   "cell_type": "code",
   "execution_count": 36,
   "id": "95072e7f",
   "metadata": {},
   "outputs": [],
   "source": [
    "lasso = SelectFromModel(Lasso(alpha=0.01))\n",
    "lasso.fit(X, y)\n",
    "selected_features_lasso = X.columns[lasso.get_support()]"
   ]
  },
  {
   "cell_type": "code",
   "execution_count": 37,
   "id": "cb5d3a2d",
   "metadata": {},
   "outputs": [
    {
     "data": {
      "text/plain": [
       "Index(['number of weekend nights', 'lead time', 'average price ',\n",
       "       'special requests'],\n",
       "      dtype='object')"
      ]
     },
     "execution_count": 37,
     "metadata": {},
     "output_type": "execute_result"
    }
   ],
   "source": [
    "selected_features_lasso"
   ]
  },
  {
   "cell_type": "code",
   "execution_count": 38,
   "id": "fc7d00b2",
   "metadata": {},
   "outputs": [],
   "source": [
    "X_selected = X[selected_features_lasso]"
   ]
  },
  {
   "cell_type": "code",
   "execution_count": 39,
   "id": "d79a4d9b",
   "metadata": {},
   "outputs": [],
   "source": [
    "X_train, X_test, y_train, y_test = train_test_split(X_selected, y, test_size=0.2, random_state=42)"
   ]
  },
  {
   "cell_type": "code",
   "execution_count": 40,
   "id": "6b153564",
   "metadata": {},
   "outputs": [
    {
     "name": "stdout",
     "output_type": "stream",
     "text": [
      "Fitting 5 folds for each of 27 candidates, totalling 135 fits\n",
      "RandomForest Accuracy: 0.8017057569296375\n",
      "Fitting 5 folds for each of 6 candidates, totalling 30 fits\n",
      "LogisticRegression Accuracy: 0.7640369580668088\n",
      "Fitting 5 folds for each of 9 candidates, totalling 45 fits\n",
      "DecisionTree Accuracy: 0.7810945273631841\n",
      "Fitting 5 folds for each of 72 candidates, totalling 360 fits\n",
      "MLPClassifier Accuracy: 0.775408670931059\n",
      "RandomForestClassifier(max_depth=10, min_samples_split=10, n_estimators=200,\n",
      "                       random_state=42) Accuracy: 0.8017057569296375\n"
     ]
    }
   ],
   "source": [
    "best_model = None\n",
    "best_accuracy = 0\n",
    "\n",
    "for model_name, (model, param_grid) in models.items():\n",
    "    grid_search = GridSearchCV(estimator=model, param_grid=param_grid, cv=5, n_jobs=-1, verbose=2)\n",
    "    grid_search.fit(X_train, y_train)\n",
    "    best_estimator = grid_search.best_estimator_\n",
    "    y_pred = best_estimator.predict(X_test)\n",
    "    accuracy = accuracy_score(y_test, y_pred)\n",
    "    \n",
    "    print(f\"{model_name} Accuracy: {accuracy}\")\n",
    "    \n",
    "    if accuracy > best_accuracy:\n",
    "        best_accuracy = accuracy\n",
    "        best_model = best_estimator\n",
    "    \n",
    "print(best_model, \"Accuracy:\", best_accuracy)"
   ]
  },
  {
   "cell_type": "code",
   "execution_count": 41,
   "id": "57b6339e",
   "metadata": {},
   "outputs": [],
   "source": [
    "y_train_pred = best_model.predict(X_train)\n",
    "y_test_pred = best_model.predict(X_test)"
   ]
  },
  {
   "cell_type": "code",
   "execution_count": 42,
   "id": "44f48ca3",
   "metadata": {},
   "outputs": [
    {
     "name": "stdout",
     "output_type": "stream",
     "text": [
      "0.8413940256045519\n",
      "0.8017057569296375\n"
     ]
    }
   ],
   "source": [
    "train_accuracy = accuracy_score(y_train, y_train_pred)\n",
    "test_accuracy = accuracy_score(y_test, y_test_pred)\n",
    "\n",
    "print(train_accuracy)\n",
    "print(test_accuracy)"
   ]
  },
  {
   "cell_type": "markdown",
   "id": "7ac05dd5",
   "metadata": {},
   "source": [
    "--------------------------------------------------------------------------------------------------------"
   ]
  },
  {
   "cell_type": "code",
   "execution_count": 43,
   "id": "d13d6b54",
   "metadata": {},
   "outputs": [
    {
     "name": "stderr",
     "output_type": "stream",
     "text": [
      "c:\\Users\\user\\OneDrive\\Desktop\\Task3_Mohammad-Al-Quraan\\.venv\\Lib\\site-packages\\sklearn\\feature_selection\\_univariate_selection.py:112: UserWarning: Features [ 0  1  5  8  9 10 11 14] are constant.\n",
      "  warnings.warn(\"Features %s are constant.\" % constant_features_idx, UserWarning)\n",
      "c:\\Users\\user\\OneDrive\\Desktop\\Task3_Mohammad-Al-Quraan\\.venv\\Lib\\site-packages\\sklearn\\feature_selection\\_univariate_selection.py:113: RuntimeWarning: invalid value encountered in divide\n",
      "  f = msb / msw\n"
     ]
    }
   ],
   "source": [
    "select_k_best = SelectKBest(score_func=f_classif, k=10)\n",
    "select_k_best.fit(X, y)\n",
    "selected_features_kbest = X.columns[select_k_best.get_support()]"
   ]
  },
  {
   "cell_type": "code",
   "execution_count": 44,
   "id": "e2e3ee47",
   "metadata": {},
   "outputs": [
    {
     "data": {
      "text/plain": [
       "Index(['number of weekend nights', 'number of week nights', 'type of meal',\n",
       "       'room type', 'lead time', 'average price ', 'special requests', 'year',\n",
       "       'month', 'day'],\n",
       "      dtype='object')"
      ]
     },
     "execution_count": 44,
     "metadata": {},
     "output_type": "execute_result"
    }
   ],
   "source": [
    "selected_features_kbest"
   ]
  },
  {
   "cell_type": "code",
   "execution_count": 45,
   "id": "db664d45",
   "metadata": {},
   "outputs": [],
   "source": [
    "X_selected = X[selected_features_kbest]"
   ]
  },
  {
   "cell_type": "code",
   "execution_count": 46,
   "id": "c82a0d03",
   "metadata": {},
   "outputs": [],
   "source": [
    "X_train, X_test, y_train, y_test = train_test_split(X_selected, y, test_size=0.2, random_state=42)"
   ]
  },
  {
   "cell_type": "code",
   "execution_count": 47,
   "id": "e34a97d2",
   "metadata": {},
   "outputs": [
    {
     "name": "stdout",
     "output_type": "stream",
     "text": [
      "Fitting 5 folds for each of 27 candidates, totalling 135 fits\n",
      "RandomForest Accuracy: 0.8123667377398721\n",
      "Fitting 5 folds for each of 6 candidates, totalling 30 fits\n"
     ]
    },
    {
     "name": "stderr",
     "output_type": "stream",
     "text": [
      "c:\\Users\\user\\OneDrive\\Desktop\\Task3_Mohammad-Al-Quraan\\.venv\\Lib\\site-packages\\sklearn\\linear_model\\_logistic.py:469: ConvergenceWarning: lbfgs failed to converge (status=1):\n",
      "STOP: TOTAL NO. of ITERATIONS REACHED LIMIT.\n",
      "\n",
      "Increase the number of iterations (max_iter) or scale the data as shown in:\n",
      "    https://scikit-learn.org/stable/modules/preprocessing.html\n",
      "Please also refer to the documentation for alternative solver options:\n",
      "    https://scikit-learn.org/stable/modules/linear_model.html#logistic-regression\n",
      "  n_iter_i = _check_optimize_result(\n"
     ]
    },
    {
     "name": "stdout",
     "output_type": "stream",
     "text": [
      "LogisticRegression Accuracy: 0.7611940298507462\n",
      "Fitting 5 folds for each of 9 candidates, totalling 45 fits\n",
      "DecisionTree Accuracy: 0.7839374555792467\n",
      "Fitting 5 folds for each of 72 candidates, totalling 360 fits\n",
      "MLPClassifier Accuracy: 0.7917555081734187\n",
      "RandomForestClassifier(max_depth=10, n_estimators=200, random_state=42) Accuracy: 0.8123667377398721\n"
     ]
    }
   ],
   "source": [
    "best_model = None\n",
    "best_accuracy = 0\n",
    "\n",
    "for model_name, (model, param_grid) in models.items():\n",
    "    grid_search = GridSearchCV(estimator=model, param_grid=param_grid, cv=5, n_jobs=-1, verbose=2)\n",
    "    grid_search.fit(X_train, y_train)\n",
    "    best_estimator = grid_search.best_estimator_\n",
    "    y_pred = best_estimator.predict(X_test)\n",
    "    accuracy = accuracy_score(y_test, y_pred)\n",
    "    \n",
    "    print(f\"{model_name} Accuracy: {accuracy}\")\n",
    "    \n",
    "    if accuracy > best_accuracy:\n",
    "        best_accuracy = accuracy\n",
    "        best_model = best_estimator\n",
    "print(best_model, \"Accuracy:\", best_accuracy)"
   ]
  },
  {
   "cell_type": "code",
   "execution_count": 48,
   "id": "9bca0212",
   "metadata": {},
   "outputs": [],
   "source": [
    "y_pred = best_model.predict(X_test)\n",
    "cm = confusion_matrix(y_test, y_pred)\n",
    "accuracy = accuracy_score(y_test, y_pred)\n",
    "cr = classification_report(y_test, y_pred)"
   ]
  },
  {
   "cell_type": "code",
   "execution_count": 49,
   "id": "a1ec42aa",
   "metadata": {},
   "outputs": [
    {
     "name": "stdout",
     "output_type": "stream",
     "text": [
      "[[360 151]\n",
      " [113 783]]\n",
      "Accuracy = 0.8123667377398721\n",
      "              precision    recall  f1-score   support\n",
      "\n",
      "           0       0.76      0.70      0.73       511\n",
      "           1       0.84      0.87      0.86       896\n",
      "\n",
      "    accuracy                           0.81      1407\n",
      "   macro avg       0.80      0.79      0.79      1407\n",
      "weighted avg       0.81      0.81      0.81      1407\n",
      "\n"
     ]
    }
   ],
   "source": [
    "print(cm)\n",
    "print('Accuracy =', accuracy)\n",
    "print(cr)"
   ]
  },
  {
   "cell_type": "code",
   "execution_count": 50,
   "id": "971799af",
   "metadata": {},
   "outputs": [],
   "source": [
    "y_train_pred = best_model.predict(X_train)\n",
    "y_test_pred = best_model.predict(X_test)"
   ]
  },
  {
   "cell_type": "code",
   "execution_count": 51,
   "id": "6f14ebd2",
   "metadata": {},
   "outputs": [
    {
     "name": "stdout",
     "output_type": "stream",
     "text": [
      "0.8637980085348507\n",
      "0.8123667377398721\n"
     ]
    }
   ],
   "source": [
    "train_accuracy = accuracy_score(y_train, y_train_pred)\n",
    "test_accuracy = accuracy_score(y_test, y_test_pred)\n",
    "\n",
    "print(train_accuracy)\n",
    "print(test_accuracy)"
   ]
  },
  {
   "cell_type": "markdown",
   "id": "5b9d1058",
   "metadata": {},
   "source": [
    "----------------------------------------------------------------------------------------------------"
   ]
  },
  {
   "cell_type": "code",
   "execution_count": 52,
   "id": "2b55aa45",
   "metadata": {},
   "outputs": [],
   "source": [
    "mutual_info = SelectKBest(score_func=mutual_info_classif, k=10)\n",
    "mutual_info.fit(X, y)\n",
    "selected_features_mi = X.columns[mutual_info.get_support()]"
   ]
  },
  {
   "cell_type": "code",
   "execution_count": 53,
   "id": "0be705c7",
   "metadata": {},
   "outputs": [
    {
     "data": {
      "text/plain": [
       "Index(['number of adults', 'number of week nights', 'car parking space',\n",
       "       'lead time', 'market segment type', 'repeated', 'P-not-C',\n",
       "       'average price ', 'special requests', 'month'],\n",
       "      dtype='object')"
      ]
     },
     "execution_count": 53,
     "metadata": {},
     "output_type": "execute_result"
    }
   ],
   "source": [
    "selected_features_mi"
   ]
  },
  {
   "cell_type": "code",
   "execution_count": 54,
   "id": "639d1e95",
   "metadata": {},
   "outputs": [],
   "source": [
    "X_selected = X[selected_features_mi]"
   ]
  },
  {
   "cell_type": "code",
   "execution_count": 55,
   "id": "f897ae8e",
   "metadata": {},
   "outputs": [],
   "source": [
    "X_train, X_test, y_train, y_test = train_test_split(X_selected, y, test_size=0.2, random_state=42)"
   ]
  },
  {
   "cell_type": "code",
   "execution_count": 56,
   "id": "c5012192",
   "metadata": {},
   "outputs": [
    {
     "name": "stdout",
     "output_type": "stream",
     "text": [
      "Fitting 5 folds for each of 27 candidates, totalling 135 fits\n",
      "RandomForest Accuracy: 0.8002842928216063\n",
      "Fitting 5 folds for each of 6 candidates, totalling 30 fits\n",
      "LogisticRegression Accuracy: 0.7619047619047619\n",
      "Fitting 5 folds for each of 9 candidates, totalling 45 fits\n",
      "DecisionTree Accuracy: 0.7782515991471215\n",
      "Fitting 5 folds for each of 72 candidates, totalling 360 fits\n",
      "MLPClassifier Accuracy: 0.783226723525231\n",
      "RandomForestClassifier(max_depth=10, min_samples_split=5, n_estimators=300,\n",
      "                       random_state=42) Accuracy: 0.8002842928216063\n"
     ]
    }
   ],
   "source": [
    "best_model = None\n",
    "best_accuracy = 0\n",
    "\n",
    "for model_name, (model, param_grid) in models.items():\n",
    "    grid_search = GridSearchCV(estimator=model, param_grid=param_grid, cv=5, n_jobs=-1, verbose=2)\n",
    "    grid_search.fit(X_train, y_train)\n",
    "    best_estimator = grid_search.best_estimator_\n",
    "    y_pred = best_estimator.predict(X_test)\n",
    "    accuracy = accuracy_score(y_test, y_pred)\n",
    "    \n",
    "    print(f\"{model_name} Accuracy: {accuracy}\")\n",
    "    \n",
    "    if accuracy > best_accuracy:\n",
    "        best_accuracy = accuracy\n",
    "        best_model = best_estimator\n",
    "print(best_model, \"Accuracy:\", best_accuracy)"
   ]
  },
  {
   "cell_type": "code",
   "execution_count": 57,
   "id": "a2ac6014",
   "metadata": {},
   "outputs": [],
   "source": [
    "y_pred = best_model.predict(X_test)\n",
    "cm = confusion_matrix(y_test, y_pred)\n",
    "accuracy = accuracy_score(y_test, y_pred)\n",
    "cr = classification_report(y_test, y_pred)"
   ]
  },
  {
   "cell_type": "code",
   "execution_count": 58,
   "id": "65e84bc8",
   "metadata": {},
   "outputs": [
    {
     "name": "stdout",
     "output_type": "stream",
     "text": [
      "[[349 162]\n",
      " [119 777]]\n",
      "Accuracy = 0.8002842928216063\n",
      "              precision    recall  f1-score   support\n",
      "\n",
      "           0       0.75      0.68      0.71       511\n",
      "           1       0.83      0.87      0.85       896\n",
      "\n",
      "    accuracy                           0.80      1407\n",
      "   macro avg       0.79      0.78      0.78      1407\n",
      "weighted avg       0.80      0.80      0.80      1407\n",
      "\n"
     ]
    }
   ],
   "source": [
    "print(cm)\n",
    "print('Accuracy =', accuracy)\n",
    "print(cr)"
   ]
  },
  {
   "cell_type": "code",
   "execution_count": 59,
   "id": "7f9dd3e1",
   "metadata": {},
   "outputs": [],
   "source": [
    "y_train_pred = best_model.predict(X_train)\n",
    "y_test_pred = best_model.predict(X_test)"
   ]
  },
  {
   "cell_type": "code",
   "execution_count": 60,
   "id": "ec205de5",
   "metadata": {},
   "outputs": [
    {
     "name": "stdout",
     "output_type": "stream",
     "text": [
      "0.8550853485064012\n",
      "0.8002842928216063\n"
     ]
    }
   ],
   "source": [
    "train_accuracy = accuracy_score(y_train, y_train_pred)\n",
    "test_accuracy = accuracy_score(y_test, y_test_pred)\n",
    "\n",
    "print(train_accuracy)\n",
    "print(test_accuracy)"
   ]
  },
  {
   "cell_type": "markdown",
   "id": "6b4b7cdf",
   "metadata": {},
   "source": [
    "-------------------------------------------------------------------------------------------------"
   ]
  },
  {
   "cell_type": "code",
   "execution_count": 61,
   "id": "8d92a9b7",
   "metadata": {},
   "outputs": [
    {
     "name": "stderr",
     "output_type": "stream",
     "text": [
      "c:\\Users\\user\\OneDrive\\Desktop\\Task3_Mohammad-Al-Quraan\\.venv\\Lib\\site-packages\\sklearn\\linear_model\\_logistic.py:469: ConvergenceWarning: lbfgs failed to converge (status=1):\n",
      "STOP: TOTAL NO. of ITERATIONS REACHED LIMIT.\n",
      "\n",
      "Increase the number of iterations (max_iter) or scale the data as shown in:\n",
      "    https://scikit-learn.org/stable/modules/preprocessing.html\n",
      "Please also refer to the documentation for alternative solver options:\n",
      "    https://scikit-learn.org/stable/modules/linear_model.html#logistic-regression\n",
      "  n_iter_i = _check_optimize_result(\n"
     ]
    }
   ],
   "source": [
    "S_Form_M = SelectFromModel(LogisticRegression())\n",
    "S_Form_M.fit(X, y)\n",
    "selected_features_Model = X.columns[S_Form_M.get_support()]"
   ]
  },
  {
   "cell_type": "code",
   "execution_count": 62,
   "id": "6888f3f6",
   "metadata": {},
   "outputs": [
    {
     "data": {
      "text/plain": [
       "Index(['number of adults', 'special requests'], dtype='object')"
      ]
     },
     "execution_count": 62,
     "metadata": {},
     "output_type": "execute_result"
    }
   ],
   "source": [
    "selected_features_Model"
   ]
  },
  {
   "cell_type": "code",
   "execution_count": 63,
   "id": "b135ff56",
   "metadata": {},
   "outputs": [],
   "source": [
    "X_selected = X[selected_features_Model]"
   ]
  },
  {
   "cell_type": "code",
   "execution_count": 64,
   "id": "5da39cf2",
   "metadata": {},
   "outputs": [],
   "source": [
    "X_train, X_test, y_train, y_test = train_test_split(X_selected, y, test_size=0.2, random_state=42)"
   ]
  },
  {
   "cell_type": "code",
   "execution_count": 65,
   "id": "5155a29e",
   "metadata": {},
   "outputs": [
    {
     "name": "stdout",
     "output_type": "stream",
     "text": [
      "Fitting 5 folds for each of 27 candidates, totalling 135 fits\n",
      "RandomForest Accuracy: 0.7171286425017769\n",
      "Fitting 5 folds for each of 6 candidates, totalling 30 fits\n",
      "LogisticRegression Accuracy: 0.7171286425017769\n",
      "Fitting 5 folds for each of 9 candidates, totalling 45 fits\n",
      "DecisionTree Accuracy: 0.7171286425017769\n",
      "Fitting 5 folds for each of 72 candidates, totalling 360 fits\n",
      "MLPClassifier Accuracy: 0.7171286425017769\n",
      "RandomForestClassifier(max_depth=10, random_state=42) Accuracy: 0.7171286425017769\n"
     ]
    }
   ],
   "source": [
    "best_model = None\n",
    "best_accuracy = 0\n",
    "\n",
    "for model_name, (model, param_grid) in models.items():\n",
    "    grid_search = GridSearchCV(estimator=model, param_grid=param_grid, cv=5, n_jobs=-1, verbose=2)\n",
    "    grid_search.fit(X_train, y_train)\n",
    "    best_estimator = grid_search.best_estimator_\n",
    "    y_pred = best_estimator.predict(X_test)\n",
    "    accuracy = accuracy_score(y_test, y_pred)\n",
    "    \n",
    "    print(f\"{model_name} Accuracy: {accuracy}\")\n",
    "    \n",
    "    if accuracy > best_accuracy:\n",
    "        best_accuracy = accuracy\n",
    "        best_model = best_estimator\n",
    "print(best_model, \"Accuracy:\", best_accuracy)"
   ]
  },
  {
   "cell_type": "code",
   "execution_count": 66,
   "id": "9e80f057",
   "metadata": {},
   "outputs": [],
   "source": [
    "y_pred = best_model.predict(X_test)\n",
    "cm = confusion_matrix(y_test, y_pred)\n",
    "accuracy = accuracy_score(y_test, y_pred)\n",
    "cr = classification_report(y_test, y_pred)"
   ]
  },
  {
   "cell_type": "code",
   "execution_count": 67,
   "id": "62c3233e",
   "metadata": {},
   "outputs": [
    {
     "name": "stdout",
     "output_type": "stream",
     "text": [
      "[[318 193]\n",
      " [205 691]]\n",
      "Accuracy = 0.7171286425017769\n",
      "              precision    recall  f1-score   support\n",
      "\n",
      "           0       0.61      0.62      0.62       511\n",
      "           1       0.78      0.77      0.78       896\n",
      "\n",
      "    accuracy                           0.72      1407\n",
      "   macro avg       0.69      0.70      0.70      1407\n",
      "weighted avg       0.72      0.72      0.72      1407\n",
      "\n"
     ]
    }
   ],
   "source": [
    "print(cm)\n",
    "print('Accuracy =', accuracy)\n",
    "print(cr)"
   ]
  },
  {
   "cell_type": "code",
   "execution_count": 68,
   "id": "b90fa670",
   "metadata": {},
   "outputs": [],
   "source": [
    "y_train_pred = best_model.predict(X_train)\n",
    "y_test_pred = best_model.predict(X_test)"
   ]
  },
  {
   "cell_type": "code",
   "execution_count": 69,
   "id": "64e3fab7",
   "metadata": {},
   "outputs": [
    {
     "name": "stdout",
     "output_type": "stream",
     "text": [
      "0.7291963015647226\n",
      "0.7171286425017769\n"
     ]
    }
   ],
   "source": [
    "train_accuracy = accuracy_score(y_train, y_train_pred)\n",
    "test_accuracy = accuracy_score(y_test, y_test_pred)\n",
    "\n",
    "print(train_accuracy)\n",
    "print(test_accuracy)"
   ]
  },
  {
   "cell_type": "markdown",
   "id": "3ba3f03b",
   "metadata": {},
   "source": [
    "---------------------------------------------------------------------------------------------------------------------------------------"
   ]
  },
  {
   "cell_type": "code",
   "execution_count": 70,
   "id": "9e6c6780",
   "metadata": {},
   "outputs": [],
   "source": [
    "tree_clf = RandomForestClassifier(n_estimators=100, random_state=42)\n",
    "tree_clf.fit(X, y)\n",
    "importances = tree_clf.feature_importances_\n",
    "indices = np.argsort(importances)\n",
    "selected_features_tree = X.columns[indices]"
   ]
  },
  {
   "cell_type": "code",
   "execution_count": 71,
   "id": "f1c20dbe",
   "metadata": {},
   "outputs": [
    {
     "data": {
      "text/plain": [
       "Index(['number of adults', 'year', 'P-not-C', 'P-C', 'repeated',\n",
       "       'market segment type', 'number of children', 'car parking space',\n",
       "       'type of meal', 'room type', 'number of weekend nights',\n",
       "       'number of week nights', 'month', 'day', 'average price ',\n",
       "       'special requests', 'lead time'],\n",
       "      dtype='object')"
      ]
     },
     "execution_count": 71,
     "metadata": {},
     "output_type": "execute_result"
    }
   ],
   "source": [
    "selected_features_tree"
   ]
  },
  {
   "cell_type": "code",
   "execution_count": 72,
   "id": "cf31007c",
   "metadata": {},
   "outputs": [],
   "source": [
    "X_selected = X[selected_features_tree]"
   ]
  },
  {
   "cell_type": "code",
   "execution_count": 73,
   "id": "0c1cfadf",
   "metadata": {},
   "outputs": [],
   "source": [
    "X_train, X_test, y_train, y_test = train_test_split(X_selected, y, test_size=0.2, random_state=42)"
   ]
  },
  {
   "cell_type": "code",
   "execution_count": 74,
   "id": "9792058a",
   "metadata": {},
   "outputs": [
    {
     "name": "stdout",
     "output_type": "stream",
     "text": [
      "Fitting 5 folds for each of 27 candidates, totalling 135 fits\n",
      "RandomForest Accuracy: 0.8102345415778252\n",
      "Fitting 5 folds for each of 6 candidates, totalling 30 fits\n"
     ]
    },
    {
     "name": "stderr",
     "output_type": "stream",
     "text": [
      "c:\\Users\\user\\OneDrive\\Desktop\\Task3_Mohammad-Al-Quraan\\.venv\\Lib\\site-packages\\sklearn\\linear_model\\_logistic.py:469: ConvergenceWarning: lbfgs failed to converge (status=1):\n",
      "STOP: TOTAL NO. of ITERATIONS REACHED LIMIT.\n",
      "\n",
      "Increase the number of iterations (max_iter) or scale the data as shown in:\n",
      "    https://scikit-learn.org/stable/modules/preprocessing.html\n",
      "Please also refer to the documentation for alternative solver options:\n",
      "    https://scikit-learn.org/stable/modules/linear_model.html#logistic-regression\n",
      "  n_iter_i = _check_optimize_result(\n"
     ]
    },
    {
     "name": "stdout",
     "output_type": "stream",
     "text": [
      "LogisticRegression Accuracy: 0.7590618336886994\n",
      "Fitting 5 folds for each of 9 candidates, totalling 45 fits\n",
      "DecisionTree Accuracy: 0.7839374555792467\n",
      "Fitting 5 folds for each of 72 candidates, totalling 360 fits\n",
      "MLPClassifier Accuracy: 0.7889125799573561\n",
      "RandomForestClassifier(max_depth=10, n_estimators=300, random_state=42) Accuracy: 0.8102345415778252\n"
     ]
    }
   ],
   "source": [
    "best_model = None\n",
    "best_accuracy = 0\n",
    "\n",
    "for model_name, (model, param_grid) in models.items():\n",
    "    grid_search = GridSearchCV(estimator=model, param_grid=param_grid, cv=5, n_jobs=-1, verbose=2)\n",
    "    grid_search.fit(X_train, y_train)\n",
    "    best_estimator = grid_search.best_estimator_\n",
    "    y_pred = best_estimator.predict(X_test)\n",
    "    accuracy = accuracy_score(y_test, y_pred)\n",
    "    \n",
    "    print(f\"{model_name} Accuracy: {accuracy}\")\n",
    "    \n",
    "    if accuracy > best_accuracy:\n",
    "        best_accuracy = accuracy\n",
    "        best_model = best_estimator\n",
    "print(best_model, \"Accuracy:\", best_accuracy)"
   ]
  },
  {
   "cell_type": "code",
   "execution_count": 75,
   "id": "e187318f",
   "metadata": {},
   "outputs": [],
   "source": [
    "y_pred = best_model.predict(X_test)\n",
    "cm = confusion_matrix(y_test, y_pred)\n",
    "accuracy = accuracy_score(y_test, y_pred)\n",
    "cr = classification_report(y_test, y_pred)"
   ]
  },
  {
   "cell_type": "code",
   "execution_count": 76,
   "id": "877a027d",
   "metadata": {},
   "outputs": [
    {
     "name": "stdout",
     "output_type": "stream",
     "text": [
      "[[355 156]\n",
      " [111 785]]\n",
      "Accuracy = 0.8102345415778252\n",
      "              precision    recall  f1-score   support\n",
      "\n",
      "           0       0.76      0.69      0.73       511\n",
      "           1       0.83      0.88      0.85       896\n",
      "\n",
      "    accuracy                           0.81      1407\n",
      "   macro avg       0.80      0.79      0.79      1407\n",
      "weighted avg       0.81      0.81      0.81      1407\n",
      "\n"
     ]
    }
   ],
   "source": [
    "print(cm)\n",
    "print('Accuracy =', accuracy)\n",
    "print(cr)"
   ]
  },
  {
   "cell_type": "code",
   "execution_count": 77,
   "id": "4592c3b7",
   "metadata": {},
   "outputs": [],
   "source": [
    "y_train_pred = best_model.predict(X_train)\n",
    "y_test_pred = best_model.predict(X_test)"
   ]
  },
  {
   "cell_type": "code",
   "execution_count": 78,
   "id": "98a2c397",
   "metadata": {},
   "outputs": [
    {
     "name": "stdout",
     "output_type": "stream",
     "text": [
      "0.8630867709815079\n",
      "0.8102345415778252\n"
     ]
    }
   ],
   "source": [
    "train_accuracy = accuracy_score(y_train, y_train_pred)\n",
    "test_accuracy = accuracy_score(y_test, y_test_pred)\n",
    "\n",
    "print(train_accuracy)\n",
    "print(test_accuracy)"
   ]
  },
  {
   "cell_type": "markdown",
   "id": "e085d2da",
   "metadata": {},
   "source": [
    "------------------------------------------------------------------------"
   ]
  },
  {
   "cell_type": "code",
   "execution_count": 79,
   "id": "dcd096cd",
   "metadata": {},
   "outputs": [],
   "source": [
    "all_selected_features = list(set(selected_features_rfe).union(set(selected_features_kbest)).union(set(selected_features_mi)).union(set(selected_features_Model)).union(set(selected_features_tree)))\n",
    "X_selected = X[all_selected_features]"
   ]
  },
  {
   "cell_type": "code",
   "execution_count": 80,
   "id": "362788bb",
   "metadata": {},
   "outputs": [
    {
     "data": {
      "text/plain": [
       "Index(['day', 'number of children', 'number of adults', 'market segment type',\n",
       "       'number of weekend nights', 'type of meal', 'car parking space',\n",
       "       'repeated', 'P-not-C', 'lead time', 'number of week nights',\n",
       "       'average price ', 'special requests', 'room type', 'P-C', 'month',\n",
       "       'year'],\n",
       "      dtype='object')"
      ]
     },
     "execution_count": 80,
     "metadata": {},
     "output_type": "execute_result"
    }
   ],
   "source": [
    "X_selected.columns"
   ]
  },
  {
   "cell_type": "code",
   "execution_count": 81,
   "id": "d361786d",
   "metadata": {},
   "outputs": [],
   "source": [
    "X_train, X_test, y_train, y_test = train_test_split(X_selected, y, test_size=0.2, random_state=42)"
   ]
  },
  {
   "cell_type": "code",
   "execution_count": 82,
   "id": "fd52dd4f",
   "metadata": {},
   "outputs": [
    {
     "name": "stdout",
     "output_type": "stream",
     "text": [
      "Fitting 5 folds for each of 27 candidates, totalling 135 fits\n",
      "RandomForest Accuracy: 0.814498933901919\n",
      "Fitting 5 folds for each of 6 candidates, totalling 30 fits\n",
      "LogisticRegression Accuracy: 0.7604832977967306\n",
      "Fitting 5 folds for each of 9 candidates, totalling 45 fits\n",
      "DecisionTree Accuracy: 0.783226723525231\n",
      "Fitting 5 folds for each of 72 candidates, totalling 360 fits\n",
      "MLPClassifier Accuracy: 0.7960199004975125\n",
      "RandomForestClassifier(max_depth=10, n_estimators=200, random_state=42) Accuracy: 0.814498933901919\n"
     ]
    },
    {
     "name": "stderr",
     "output_type": "stream",
     "text": [
      "c:\\Users\\user\\OneDrive\\Desktop\\Task3_Mohammad-Al-Quraan\\.venv\\Lib\\site-packages\\sklearn\\neural_network\\_multilayer_perceptron.py:691: ConvergenceWarning: Stochastic Optimizer: Maximum iterations (200) reached and the optimization hasn't converged yet.\n",
      "  warnings.warn(\n"
     ]
    }
   ],
   "source": [
    "best_model_F = None\n",
    "best_accuracy_F = 0\n",
    "\n",
    "for model_name, (model, param_grid) in models.items():\n",
    "    grid_search = GridSearchCV(estimator=model, param_grid=param_grid, cv=5, n_jobs=-1, verbose=2)\n",
    "    grid_search.fit(X_train, y_train)\n",
    "    best_estimator = grid_search.best_estimator_\n",
    "    y_pred = best_estimator.predict(X_test)\n",
    "    accuracy = accuracy_score(y_test, y_pred)\n",
    "    \n",
    "    print(f\"{model_name} Accuracy: {accuracy}\")\n",
    "    \n",
    "    if accuracy > best_accuracy_F:\n",
    "        best_accuracy_F = accuracy\n",
    "        best_model_F = best_estimator\n",
    "print(best_model_F, \"Accuracy:\", best_accuracy_F)"
   ]
  },
  {
   "cell_type": "code",
   "execution_count": 83,
   "id": "25a214fa",
   "metadata": {},
   "outputs": [],
   "source": [
    "y_pred = best_model_F.predict(X_test)\n",
    "cm = confusion_matrix(y_test, y_pred)\n",
    "accuracy = accuracy_score(y_test, y_pred)\n",
    "cr = classification_report(y_test, y_pred)"
   ]
  },
  {
   "cell_type": "code",
   "execution_count": 84,
   "id": "dd4ff8d3",
   "metadata": {},
   "outputs": [
    {
     "name": "stdout",
     "output_type": "stream",
     "text": [
      "[[361 150]\n",
      " [111 785]]\n",
      "Accuracy = 0.814498933901919\n",
      "              precision    recall  f1-score   support\n",
      "\n",
      "           0       0.76      0.71      0.73       511\n",
      "           1       0.84      0.88      0.86       896\n",
      "\n",
      "    accuracy                           0.81      1407\n",
      "   macro avg       0.80      0.79      0.80      1407\n",
      "weighted avg       0.81      0.81      0.81      1407\n",
      "\n"
     ]
    }
   ],
   "source": [
    "print(cm)\n",
    "print('Accuracy =', accuracy)\n",
    "print(cr)"
   ]
  },
  {
   "cell_type": "code",
   "execution_count": 85,
   "id": "fece8235",
   "metadata": {},
   "outputs": [],
   "source": [
    "y_train_pred = best_model_F.predict(X_train)\n",
    "y_test_pred = best_model_F.predict(X_test)"
   ]
  },
  {
   "cell_type": "code",
   "execution_count": 86,
   "id": "3ac0ba2f",
   "metadata": {},
   "outputs": [
    {
     "name": "stdout",
     "output_type": "stream",
     "text": [
      "0.8636201991465149\n",
      "0.814498933901919\n"
     ]
    }
   ],
   "source": [
    "train_accuracy = accuracy_score(y_train, y_train_pred)\n",
    "test_accuracy = accuracy_score(y_test, y_test_pred)\n",
    "\n",
    "print(train_accuracy)\n",
    "print(test_accuracy)"
   ]
  },
  {
   "cell_type": "markdown",
   "id": "be4f9d93",
   "metadata": {},
   "source": [
    "-----------------------------------------------------------------------------------------------------------"
   ]
  }
 ],
 "metadata": {
  "kernelspec": {
   "display_name": "Python 3 (ipykernel)",
   "language": "python",
   "name": "python3"
  },
  "language_info": {
   "codemirror_mode": {
    "name": "ipython",
    "version": 3
   },
   "file_extension": ".py",
   "mimetype": "text/x-python",
   "name": "python",
   "nbconvert_exporter": "python",
   "pygments_lexer": "ipython3",
   "version": "3.11.5"
  }
 },
 "nbformat": 4,
 "nbformat_minor": 5
}
